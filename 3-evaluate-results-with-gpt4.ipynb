{
 "cells": [
  {
   "cell_type": "code",
   "execution_count": 17,
   "id": "fd51759c-d5f9-4955-8bcc-0f71206420ed",
   "metadata": {
    "tags": []
   },
   "outputs": [],
   "source": [
    "import pandas as pd\n",
    "from tqdm.auto import tqdm\n",
    "from langchain.prompts.chat import (\n",
    "    ChatPromptTemplate,\n",
    "    HumanMessagePromptTemplate,\n",
    ")\n",
    "from langchain.schema import SystemMessage\n",
    "from langchain.chat_models import AzureChatOpenAI\n",
    "import os \n",
    "\n",
    "pd.set_option(\"display.max_colwidth\", None)"
   ]
  },
  {
   "cell_type": "code",
   "execution_count": 36,
   "id": "853334fd-6030-4223-9013-7f8bc1f3dfad",
   "metadata": {
    "tags": []
   },
   "outputs": [],
   "source": [
    "EVALUATION_PROMPT = \"\"\"###Task Description:\n",
    "An instruction (might include an Input inside it), a response to evaluate, a reference answer that gets a score of 5, and a score rubric representing an evaluation criteria are given.\n",
    "1. Write a detailed feedback that assesses the quality of the response strictly based on the given score rubric, not evaluating in general.\n",
    "2. After writing feedback, write a score that is an integer between 1 and 10. You should refer to the score rubric.\n",
    "3. The output format should look as follows: \"Feedback: {{write a feedback for criteria}} [RESULT] {{an integer number between 1 and 10}}\"\n",
    "4. Please do not generate any other opening, closing, and explanations. Be sure to include [RESULT] in your output.\n",
    "\n",
    "###The instruction to evaluate:\n",
    "{instruction}\n",
    "\n",
    "###Response to evaluate:\n",
    "{response}\n",
    "\n",
    "###Retrieved Information:\n",
    "{retrieved_information}\n",
    "\n",
    "###Reference Answer (Score 10):\n",
    "{reference_answer}\n",
    "\n",
    "###Score Rubrics:\n",
    "[Is the response correct, accurate, and factual based on the reference answer?]\n",
    "Score 1: The response is completely incorrect, inaccurate, and/or not factual.\n",
    "Score 2-3: The response has many inaccuracies and lacks factual correctness.\n",
    "Score 4-5: The response is somewhat correct, accurate, and/or factual.\n",
    "Score 6-7: The response is mostly correct, accurate, and factual.\n",
    "Score 8-9: The response is very accurate, correct, and factual with minor errors.\n",
    "Score 10: The response is completely correct, accurate, and factual with no errors.\n",
    "\n",
    "###Feedback:\"\"\"\n",
    "\n",
    "\n",
    "evaluation_prompt_template = ChatPromptTemplate.from_messages(\n",
    "    [\n",
    "        SystemMessage(content=\"You are a fair evaluator language model.\"),\n",
    "        HumanMessagePromptTemplate.from_template(EVALUATION_PROMPT),\n",
    "    ]\n",
    ")"
   ]
  },
  {
   "cell_type": "code",
   "execution_count": 37,
   "id": "819d09f2-42fb-45bc-a243-461e9535767e",
   "metadata": {
    "tags": []
   },
   "outputs": [
    {
     "name": "stderr",
     "output_type": "stream",
     "text": [
      "C:\\Users\\TOTORO\\anaconda3\\envs\\llm-work-space\\Lib\\site-packages\\langchain_community\\chat_models\\azure_openai.py:167: UserWarning: As of openai>=1.0.0, Azure endpoints should be specified via the `azure_endpoint` param not `openai_api_base` (or alias `base_url`). Updating `openai_api_base` from https://paycell-arge.openai.azure.com/ to https://paycell-arge.openai.azure.com/openai.\n",
      "  warnings.warn(\n",
      "C:\\Users\\TOTORO\\anaconda3\\envs\\llm-work-space\\Lib\\site-packages\\langchain_community\\chat_models\\azure_openai.py:174: UserWarning: As of openai>=1.0.0, if `deployment_name` (or alias `azure_deployment`) is specified then `openai_api_base` (or alias `base_url`) should not be. Instead use `deployment_name` (or alias `azure_deployment`) and `azure_endpoint`.\n",
      "  warnings.warn(\n",
      "C:\\Users\\TOTORO\\anaconda3\\envs\\llm-work-space\\Lib\\site-packages\\langchain_community\\chat_models\\azure_openai.py:182: UserWarning: As of openai>=1.0.0, if `openai_api_base` (or alias `base_url`) is specified it is expected to be of the form https://example-resource.azure.openai.com/openai/deployments/example-deployment. Updating https://paycell-arge.openai.azure.com/ to https://paycell-arge.openai.azure.com/openai.\n",
      "  warnings.warn(\n"
     ]
    }
   ],
   "source": [
    "os.environ['OPENAI_API_KEY'] = 'OPENAI_API_KEY'\n",
    "os.environ['OPENAI_API_TYPE'] = 'azure'\n",
    "os.environ['OPENAI_API_VERSION'] = '2023-03-15-preview'\n",
    "os.environ['OPENAI_API_BASE'] = 'OPENAI_API_BASE'\n",
    "\n",
    "eval_chat_model = AzureChatOpenAI(\n",
    "      deployment_name=\"deployment_name\",\n",
    "      model_name=\"gpt-model_name-32k\")\n",
    "\n",
    "evaluator_name = \"GPT4\""
   ]
  },
  {
   "cell_type": "code",
   "execution_count": 49,
   "id": "9068c07a-5460-412a-8417-68fce732bf5c",
   "metadata": {
    "tags": []
   },
   "outputs": [],
   "source": [
    "results = pd.read_excel(\"llm-QA-results.xlsx\")"
   ]
  },
  {
   "cell_type": "code",
   "execution_count": 52,
   "id": "08a5f5c0-7681-4c52-ab30-1a247e499e29",
   "metadata": {
    "tags": []
   },
   "outputs": [
    {
     "data": {
      "text/html": [
       "<div>\n",
       "<style scoped>\n",
       "    .dataframe tbody tr th:only-of-type {\n",
       "        vertical-align: middle;\n",
       "    }\n",
       "\n",
       "    .dataframe tbody tr th {\n",
       "        vertical-align: top;\n",
       "    }\n",
       "\n",
       "    .dataframe thead th {\n",
       "        text-align: right;\n",
       "    }\n",
       "</style>\n",
       "<table border=\"1\" class=\"dataframe\">\n",
       "  <thead>\n",
       "    <tr style=\"text-align: right;\">\n",
       "      <th></th>\n",
       "      <th>llm-model</th>\n",
       "      <th>question</th>\n",
       "      <th>contexts</th>\n",
       "      <th>answer</th>\n",
       "      <th>ground_truth</th>\n",
       "    </tr>\n",
       "  </thead>\n",
       "  <tbody>\n",
       "    <tr>\n",
       "      <th>0</th>\n",
       "      <td>Llama-2-13b-chat-hf</td>\n",
       "      <td>What are the fundamental differences between deductive and inductive reasoning in the context of Data Science, as outlined in the guide?</td>\n",
       "      <td>['(hypothesis-based) and inductive (pattern-based) reasoning.  /T_his is \\na fundamental change from traditional analytic approaches. Inductive \\nreasoning and exploratory data analysis provide a means to form or \\nre/f_ine hypotheses and discover new analytic paths. In fact, to do the \\ndiscovery of signi/f_icant insights that are the hallmark of Data Science, \\nyou must have the tradecraft and the interplay between inductive \\nand deductive reasoning. By actively combining the ability to reason \\ndeductively and inductively, Data Science creates an environment \\nwhere models of reality no longer need to be static and empirically \\nbased. Instead, they are constantly tested, updated and improved until \\nbetter models are found. /T_hese concepts are summarized in the /f_igure, \\n/T_he Types of Reason and /T_heir Role in Data Science Tradecraft .\\nTHE TYPES OF REASON…\\nDEDUCTIVE REASONING:\\n › Commonly associated \\nwith “formal logic.”\\n › Involves reasoning from known \\npremises, or premises presumed', '(hypothesis-based) and inductive (pattern-based) reasoning.  /T_his is \\na fundamental change from traditional analytic approaches. Inductive \\nreasoning and exploratory data analysis provide a means to form or \\nre/f_ine hypotheses and discover new analytic paths. In fact, to do the \\ndiscovery of signi/f_icant insights that are the hallmark of Data Science, \\nyou must have the tradecraft and the interplay between inductive \\nand deductive reasoning. By actively combining the ability to reason \\ndeductively and inductively, Data Science creates an environment \\nwhere models of reality no longer need to be static and empirically \\nbased. Instead, they are constantly tested, updated and improved until \\nbetter models are found. /T_hese concepts are summarized in the /f_igure, \\n/T_he Types of Reason and /T_heir Role in Data Science Tradecraft .\\nTHE TYPES OF REASON…\\nDEDUCTIVE REASONING:\\n › Commonly associated \\nwith “formal logic.”\\n › Involves reasoning from known \\npremises, or premises presumed', '(hypothesis-based) and inductive (pattern-based) reasoning.  /T_his is \\na fundamental change from traditional analytic approaches. Inductive \\nreasoning and exploratory data analysis provide a means to form or \\nre/f_ine hypotheses and discover new analytic paths. In fact, to do the \\ndiscovery of signi/f_icant insights that are the hallmark of Data Science, \\nyou must have the tradecraft and the interplay between inductive \\nand deductive reasoning. By actively combining the ability to reason \\ndeductively and inductively, Data Science creates an environment \\nwhere models of reality no longer need to be static and empirically \\nbased. Instead, they are constantly tested, updated and improved until \\nbetter models are found. /T_hese concepts are summarized in the /f_igure, \\n/T_he Types of Reason and /T_heir Role in Data Science Tradecraft .\\nTHE TYPES OF REASON…\\nDEDUCTIVE REASONING:\\n › Commonly associated \\nwith “formal logic.”\\n › Involves reasoning from known \\npremises, or premises presumed', 'premises, or premises presumed \\nto be true, to a certain conclusion.\\n › The conclusions reached are \\ncertain, inevitable, inescapable.INDUCTIVE REASONING\\n › Commonly known as “informal \\nlogic,”  or “everyday argument.”\\n › Involves drawing uncertain \\ninferences, based on \\nprobabilistic reasoning.\\n › The conclusions reached \\nare probable, reasonable, \\nplausible, believable.\\n…AND THEIR ROLE IN DATA SCIENCE TRADECRAFT.\\nDEDUCTIVE REASONING:\\n › Formulate hypotheses about \\nrelationships and underlying models.\\n › Carry out experiments with the data \\nto test hypotheses and models.INDUCTIVE REASONING\\n › Exploratory data analysis to \\ndiscover or reﬁne hypotheses.\\n › Discover new relationships, insights \\nand analytic paths from the data.\\nThe Types of Reason and Their Role in Data Science Tradecraft\\nTHE FIELD  GUIDE to  DATA  SCIENCE\\n Source: Booz Allen Hamilton \\n19 Start Here for the Basics 19 Start Here for the Basics\\n/T_he diﬀerences between Data Science and traditional analytic', 'premises, or premises presumed \\nto be true, to a certain conclusion.\\n › The conclusions reached are \\ncertain, inevitable, inescapable.INDUCTIVE REASONING\\n › Commonly known as “informal \\nlogic,”  or “everyday argument.”\\n › Involves drawing uncertain \\ninferences, based on \\nprobabilistic reasoning.\\n › The conclusions reached \\nare probable, reasonable, \\nplausible, believable.\\n…AND THEIR ROLE IN DATA SCIENCE TRADECRAFT.\\nDEDUCTIVE REASONING:\\n › Formulate hypotheses about \\nrelationships and underlying models.\\n › Carry out experiments with the data \\nto test hypotheses and models.INDUCTIVE REASONING\\n › Exploratory data analysis to \\ndiscover or reﬁne hypotheses.\\n › Discover new relationships, insights \\nand analytic paths from the data.\\nThe Types of Reason and Their Role in Data Science Tradecraft\\nTHE FIELD  GUIDE to  DATA  SCIENCE\\n Source: Booz Allen Hamilton \\n19 Start Here for the Basics 19 Start Here for the Basics\\n/T_he diﬀerences between Data Science and traditional analytic']</td>\n",
       "      <td>The fundamental differences between deductive and inductive reasoning in the context of Data Science are:\\n     * Deductive reasoning involves reasoning from known premises to a certain conclusion, while inductive reasoning involves drawing uncertain inferences based on probabilistic reasoning.\\n     * Data Science combines both deductive and inductive reasoning to create an environment where models of reality are constantly tested, updated, and improved until better models are found.\\n     * Data Science emphasizes the use of inductive reasoning to discover new relationships and insights from the data, while deductive reasoning is used to formulate hypotheses and carry out experiments to test those hypotheses.</td>\n",
       "      <td>deductive reasoning begins with hypotheses and tests them against data to reach a certain conclusion, reflecting a structured, logical process. Inductive reasoning, conversely, starts with observations and data to generate hypotheses, favoring discovery and insights. This interplay enhances model adaptability and reflects a significant shift from traditional analytic methods.</td>\n",
       "    </tr>\n",
       "    <tr>\n",
       "      <th>1</th>\n",
       "      <td>Llama-2-13b-chat-hf</td>\n",
       "      <td>How does the guide describe the transformation of data into actionable insights through the creation of data products?</td>\n",
       "      <td>['TheSHORT                  \\n  VERSION\\n\\x03›Data Science is the art of turning data into actions.  \\nIt’s all about the tradecraft. Tradecraft is the process, tools and \\ntechnologies for humans and computers to work together to \\ntransform data into insights.\\n\\x03›Data Science tradecraft creates data products .  \\nData products provide actionable information without exposing \\ndecision makers to the underlying data or analytics (e.g., buy/sell \\nstrategies for /f_inancial instruments, a set of actions to improve \\nproduct yield, or steps to improve product marketing).\\n\\x03›Data Science supports and encourages shifting between \\ndeductive (hypothesis-based) and inductive (pattern-\\nbased) reasoning.  \\n/T_his is a fundamental change from traditional analysis approaches. \\nInductive reasoning and exploratory data analysis provide a means \\nto form or re/f_ine hypotheses and discover new analytic paths. \\nModels of reality no longer need to be static. /T_hey are constantly', 'TheSHORT                  \\n  VERSION\\n\\x03›Data Science is the art of turning data into actions.  \\nIt’s all about the tradecraft. Tradecraft is the process, tools and \\ntechnologies for humans and computers to work together to \\ntransform data into insights.\\n\\x03›Data Science tradecraft creates data products .  \\nData products provide actionable information without exposing \\ndecision makers to the underlying data or analytics (e.g., buy/sell \\nstrategies for /f_inancial instruments, a set of actions to improve \\nproduct yield, or steps to improve product marketing).\\n\\x03›Data Science supports and encourages shifting between \\ndeductive (hypothesis-based) and inductive (pattern-\\nbased) reasoning.  \\n/T_his is a fundamental change from traditional analysis approaches. \\nInductive reasoning and exploratory data analysis provide a means \\nto form or re/f_ine hypotheses and discover new analytic paths. \\nModels of reality no longer need to be static. /T_hey are constantly', 'TheSHORT                  \\n  VERSION\\n\\x03›Data Science is the art of turning data into actions.  \\nIt’s all about the tradecraft. Tradecraft is the process, tools and \\ntechnologies for humans and computers to work together to \\ntransform data into insights.\\n\\x03›Data Science tradecraft creates data products .  \\nData products provide actionable information without exposing \\ndecision makers to the underlying data or analytics (e.g., buy/sell \\nstrategies for /f_inancial instruments, a set of actions to improve \\nproduct yield, or steps to improve product marketing).\\n\\x03›Data Science supports and encourages shifting between \\ndeductive (hypothesis-based) and inductive (pattern-\\nbased) reasoning.  \\n/T_his is a fundamental change from traditional analysis approaches. \\nInductive reasoning and exploratory data analysis provide a means \\nto form or re/f_ine hypotheses and discover new analytic paths. \\nModels of reality no longer need to be static. /T_hey are constantly', 'Organizations often make decisions based on inexact data. Data \\nstovepipes mean that organizations may have blind spots. /T_hey are \\nnot able to see the whole picture and fail to look at their data and \\nchallenges holistically. /T_he end result is that valuable information is \\nwithheld from decision makers. Research has shown almost 33% of \\ndecisions are made without good data or information. [10] \\nWhen Data Scientists are able to explore and analyze all the data, new \\nopportunities arise for analysis and data-driven decision making. /T_he \\ninsights gained from these new opportunities will signi/f_icantly change \\nthe course of action and decisions within an organization. Gaining \\naccess to an organization’s complete repository of data, however, \\nrequires preparation.\\nOur experience shows time and time again that the best tool for \\nData Scientists to prepare for analysis is a lake – speci/f_ically, the Data \\nLake.[11] /T_his is a new approach to collecting, storing and integrating', 'Organizations often make decisions based on inexact data. Data \\nstovepipes mean that organizations may have blind spots. /T_hey are \\nnot able to see the whole picture and fail to look at their data and \\nchallenges holistically. /T_he end result is that valuable information is \\nwithheld from decision makers. Research has shown almost 33% of \\ndecisions are made without good data or information. [10] \\nWhen Data Scientists are able to explore and analyze all the data, new \\nopportunities arise for analysis and data-driven decision making. /T_he \\ninsights gained from these new opportunities will signi/f_icantly change \\nthe course of action and decisions within an organization. Gaining \\naccess to an organization’s complete repository of data, however, \\nrequires preparation.\\nOur experience shows time and time again that the best tool for \\nData Scientists to prepare for analysis is a lake – speci/f_ically, the Data \\nLake.[11] /T_his is a new approach to collecting, storing and integrating']</td>\n",
       "      <td>Based on the provided context, the guide describes the transformation of data into actionable insights through the creation of data products, which provide actionable information without exposing decision makers to the underlying data or analytics. The guide highlights the importance of extracting timely and actionable information from diverse data sources to drive data products, and emphasizes the shift from traditional analysis approaches to inductive and deductive reasoning. Additionally, the guide notes that organizations can directly connect business decision makers to the data, allowing them to value the data rather than managing it as something separate.</td>\n",
       "      <td>The guide outlines the transformation of data into actionable insights through the creation of data products as a process that turns data into actions. This is achieved by developing data products that provide actionable information to decision-makers without requiring them to interact with the underlying data or analytics. Examples of such data products include buy/sell strategies, actions to improve product yield, or steps to enhance product marketing. This transformation requires extracting timely actionable information from various data sources to drive the data products, thus enabling decisions based on insights like which products to advertise more or how to improve compliance programs cost-effectively.</td>\n",
       "    </tr>\n",
       "    <tr>\n",
       "      <th>2</th>\n",
       "      <td>Llama-2-13b-chat-hf</td>\n",
       "      <td>According to the guide, what role does the Data Lake play in the preparation and analysis of data for Data Science endeavors?</td>\n",
       "      <td>['Organizations often make decisions based on inexact data. Data \\nstovepipes mean that organizations may have blind spots. /T_hey are \\nnot able to see the whole picture and fail to look at their data and \\nchallenges holistically. /T_he end result is that valuable information is \\nwithheld from decision makers. Research has shown almost 33% of \\ndecisions are made without good data or information. [10] \\nWhen Data Scientists are able to explore and analyze all the data, new \\nopportunities arise for analysis and data-driven decision making. /T_he \\ninsights gained from these new opportunities will signi/f_icantly change \\nthe course of action and decisions within an organization. Gaining \\naccess to an organization’s complete repository of data, however, \\nrequires preparation.\\nOur experience shows time and time again that the best tool for \\nData Scientists to prepare for analysis is a lake – speci/f_ically, the Data \\nLake.[11] /T_his is a new approach to collecting, storing and integrating', 'Organizations often make decisions based on inexact data. Data \\nstovepipes mean that organizations may have blind spots. /T_hey are \\nnot able to see the whole picture and fail to look at their data and \\nchallenges holistically. /T_he end result is that valuable information is \\nwithheld from decision makers. Research has shown almost 33% of \\ndecisions are made without good data or information. [10] \\nWhen Data Scientists are able to explore and analyze all the data, new \\nopportunities arise for analysis and data-driven decision making. /T_he \\ninsights gained from these new opportunities will signi/f_icantly change \\nthe course of action and decisions within an organization. Gaining \\naccess to an organization’s complete repository of data, however, \\nrequires preparation.\\nOur experience shows time and time again that the best tool for \\nData Scientists to prepare for analysis is a lake – speci/f_ically, the Data \\nLake.[11] /T_his is a new approach to collecting, storing and integrating', 'Organizations often make decisions based on inexact data. Data \\nstovepipes mean that organizations may have blind spots. /T_hey are \\nnot able to see the whole picture and fail to look at their data and \\nchallenges holistically. /T_he end result is that valuable information is \\nwithheld from decision makers. Research has shown almost 33% of \\ndecisions are made without good data or information. [10] \\nWhen Data Scientists are able to explore and analyze all the data, new \\nopportunities arise for analysis and data-driven decision making. /T_he \\ninsights gained from these new opportunities will signi/f_icantly change \\nthe course of action and decisions within an organization. Gaining \\naccess to an organization’s complete repository of data, however, \\nrequires preparation.\\nOur experience shows time and time again that the best tool for \\nData Scientists to prepare for analysis is a lake – speci/f_ically, the Data \\nLake.[11] /T_his is a new approach to collecting, storing and integrating', 'of risks and opportunities by evaluating situational, operational and \\nbehavioral data.\\nWith the totality of data fully accessible in the Data Lake, \\norganizations can use analytics to /f_ind the kinds of connections and \\npatterns that point to promising opportunities. /T_his high-speed \\nanalytic connection is done within the Data Lake, as opposed to \\nolder style sampling methods that could only make use of a narrow \\nslice of the data. In order to understand what was in the lake, you had \\nto bring the data out and study it. Now you can dive into the lake, \\nbringing your analytics to the data. /T_he /f_igure, Analytic Connection in \\nthe Data Lake,  highlights the concept of diving into the Data Lake to \\ndiscover new connections and patterns . \\nAnalytic Connection in the Data Lake\\nTHE FIELD  GUIDE to  DATA  SCIENCE\\n29 Start Here for the Basics 29 Start Here for the BasicsData Scientists work across the spectrum of analytic goals – Describe,', 'of risks and opportunities by evaluating situational, operational and \\nbehavioral data.\\nWith the totality of data fully accessible in the Data Lake, \\norganizations can use analytics to /f_ind the kinds of connections and \\npatterns that point to promising opportunities. /T_his high-speed \\nanalytic connection is done within the Data Lake, as opposed to \\nolder style sampling methods that could only make use of a narrow \\nslice of the data. In order to understand what was in the lake, you had \\nto bring the data out and study it. Now you can dive into the lake, \\nbringing your analytics to the data. /T_he /f_igure, Analytic Connection in \\nthe Data Lake,  highlights the concept of diving into the Data Lake to \\ndiscover new connections and patterns . \\nAnalytic Connection in the Data Lake\\nTHE FIELD  GUIDE to  DATA  SCIENCE\\n29 Start Here for the Basics 29 Start Here for the BasicsData Scientists work across the spectrum of analytic goals – Describe,']</td>\n",
       "      <td>The Data Lake plays a crucial role in the preparation and analysis of data for Data Science endeavors by providing a centralized repository of all the organization's data, eliminating the need for ETL and enabling real-time analysis of all the data.</td>\n",
       "      <td>The guide emphasizes the Data Lake's critical role in Data Science for both the preparation and analysis of data. It is highlighted as the optimal tool for Data Scientists to prepare data for analysis, acting as a centralized repository that consolidates an organization's entire data collection into a unified view. This consolidation eliminates the need for traditional, cumbersome data-preparation processes like Extract/Transform/Load (ETL), making all information readily available for every inquiry. The Data Lake enables direct analysis of the complete data set, facilitating the discovery of connections and patterns that drive actionable insights, thereby significantly enhancing decision-making and opportunity identification within organizations.</td>\n",
       "    </tr>\n",
       "    <tr>\n",
       "      <th>3</th>\n",
       "      <td>Llama-2-13b-chat-hf</td>\n",
       "      <td>Can you explain the concept of 'Data Science Maturity' within an organization as presented in the guide, and how does it impact the organization's analytical capabilities?</td>\n",
       "      <td>['unless it is intended to produce an output – that is, you have the \\nintent to Advise . /T_his means simply that each step forward in  \\nmaturity drives you to the right in the model diagram. Moving  \\nto the right requires the correct processes, people, culture and \\noperating model – a robust Data Science capability. What Does it  \\nTake to Create a Data Science Capability?  addresses this topic. \\nWe have observed very few organizations actually operating at  \\nthe highest levels of maturity, the Predict  and Advise  stages. /T_he \\ntradecraft of Discover  is only now maturing to the point that \\norganizations can focus on advanced Predict and Advise activities.  \\n/T_his is the new frontier of Data Science. /T_his is the space in which \\nwe will begin to understand how to close the cognitive gap between \\nhumans and computers. Organizations that reach Advise  will be  \\nmet with true insights and real competitive advantage. »  Where does your organization \\nfall in analytic maturity? \\n Take the quiz!', 'unless it is intended to produce an output – that is, you have the \\nintent to Advise . /T_his means simply that each step forward in  \\nmaturity drives you to the right in the model diagram. Moving  \\nto the right requires the correct processes, people, culture and \\noperating model – a robust Data Science capability. What Does it  \\nTake to Create a Data Science Capability?  addresses this topic. \\nWe have observed very few organizations actually operating at  \\nthe highest levels of maturity, the Predict  and Advise  stages. /T_he \\ntradecraft of Discover  is only now maturing to the point that \\norganizations can focus on advanced Predict and Advise activities.  \\n/T_his is the new frontier of Data Science. /T_his is the space in which \\nwe will begin to understand how to close the cognitive gap between \\nhumans and computers. Organizations that reach Advise  will be  \\nmet with true insights and real competitive advantage. »  Where does your organization \\nfall in analytic maturity? \\n Take the quiz!', 'unless it is intended to produce an output – that is, you have the \\nintent to Advise . /T_his means simply that each step forward in  \\nmaturity drives you to the right in the model diagram. Moving  \\nto the right requires the correct processes, people, culture and \\noperating model – a robust Data Science capability. What Does it  \\nTake to Create a Data Science Capability?  addresses this topic. \\nWe have observed very few organizations actually operating at  \\nthe highest levels of maturity, the Predict  and Advise  stages. /T_he \\ntradecraft of Discover  is only now maturing to the point that \\norganizations can focus on advanced Predict and Advise activities.  \\n/T_his is the new frontier of Data Science. /T_his is the space in which \\nwe will begin to understand how to close the cognitive gap between \\nhumans and computers. Organizations that reach Advise  will be  \\nmet with true insights and real competitive advantage. »  Where does your organization \\nfall in analytic maturity? \\n Take the quiz!', 'tested, updated and improved until better models are found. \\n\\x03›Data Science is necessary for companies to stay with the \\npack and compete in the future.   \\nOrganizations are constantly making decisions based on gut \\ninstinct, loudest voice and best argument – sometimes they are \\neven informed by real information. /T_he winners and the losers in \\nthe emerging data economy are going to be determined by their \\nData Science teams. \\n\\x03›Data Science capabilities can be built over time.  \\nOrganizations mature through a series of stages – Collect, \\nDescribe, Discover, Predict, Advise – as they move from data \\ndeluge to full Data Science maturity. At each stage, they can \\ntackle increasingly complex analytic goals with a wider breadth \\nof analytic capabilities. However, organizations need not reach \\nmaximum Data Science maturity to achieve success. Signi/f_icant \\ngains can be found in every stage.\\n\\x03›Data Science is a diﬀerent kind of team sport.   \\nData Science teams need a broad view of the organization. Leaders', 'tested, updated and improved until better models are found. \\n\\x03›Data Science is necessary for companies to stay with the \\npack and compete in the future.   \\nOrganizations are constantly making decisions based on gut \\ninstinct, loudest voice and best argument – sometimes they are \\neven informed by real information. /T_he winners and the losers in \\nthe emerging data economy are going to be determined by their \\nData Science teams. \\n\\x03›Data Science capabilities can be built over time.  \\nOrganizations mature through a series of stages – Collect, \\nDescribe, Discover, Predict, Advise – as they move from data \\ndeluge to full Data Science maturity. At each stage, they can \\ntackle increasingly complex analytic goals with a wider breadth \\nof analytic capabilities. However, organizations need not reach \\nmaximum Data Science maturity to achieve success. Signi/f_icant \\ngains can be found in every stage.\\n\\x03›Data Science is a diﬀerent kind of team sport.   \\nData Science teams need a broad view of the organization. Leaders']</td>\n",
       "      <td>The concept of \"Data Science Maturity\" refers to an organization's ability to utilize data to drive decision-making and improve its analytical capabilities. It is a model that assesses an organization's progress in developing its data science capabilities, from basic data collection and description to more advanced predictive and advisory activities. The model has five stages of maturity, ranging from collecting and describing data to predicting and advising. Organizations that reach the highest levels of maturity, known as the \"Advise\" stage, are able to use data to gain true insights and achieve real competitive advantage. To create a data science capability, organizations must build a robust team with a broad view of the organization, and leaders must foster trust and transparent communication across all levels.</td>\n",
       "      <td>The concept of 'Data Science Maturity' in an organization is described as a progression through stages from data collection to advanced analytics and decision-making advice. It outlines a journey from handling simple data tasks to achieving deep insights that guide strategic actions. Each stage—Collect, Describe, Discover, Predict, and Advise—represents an increase in analytical capability, moving from basic data aggregation to providing sophisticated, actionable advice. Advancing through these stages enhances the organization's ability to make informed decisions, ultimately offering a competitive advantage.</td>\n",
       "    </tr>\n",
       "    <tr>\n",
       "      <th>4</th>\n",
       "      <td>Llama-2-13b-chat-hf</td>\n",
       "      <td>The guide mentions a 'Data Science Venn Diagram' that includes domain expertise, computer science, and mathematics. How does this diagram illustrate the interdisciplinary nature of Data Science, and why are these areas critical?</td>\n",
       "      <td>['of the types of personalities that make Data Science possible, as well \\nas a willingness to establish a culture of innovation and curiosity in \\nyour organization. You must also consider how to deploy the team and \\ngain widespread buy-in from across your organization. The Data Science Venn Diagram (inspired by [12])\\nTHE FIELD  GUIDE to  DATA  SCIENCE\\n35 Start Here for the Basics 35 Start Here for the BasicsUnder standing What Makes  \\na Data Scientist \\nData Science often requires a signi/f_icant investment of time across \\na variety of tasks. Hypotheses must be generated and data must be \\nacquired, prepared, analyzed, and acted upon. Multiple techniques \\nare often applied before one yields interesting results. If that seems \\ndaunting, it is because it is. Data Science is diﬃcult, intellectually \\ntaxing work, which requires lots of talent: both tangible technical \\nskills as well as the intangible ‘x-factors.’\\n/T_he most important qualities of Data Scientists tend to be the', 'of the types of personalities that make Data Science possible, as well \\nas a willingness to establish a culture of innovation and curiosity in \\nyour organization. You must also consider how to deploy the team and \\ngain widespread buy-in from across your organization. The Data Science Venn Diagram (inspired by [12])\\nTHE FIELD  GUIDE to  DATA  SCIENCE\\n35 Start Here for the Basics 35 Start Here for the BasicsUnder standing What Makes  \\na Data Scientist \\nData Science often requires a signi/f_icant investment of time across \\na variety of tasks. Hypotheses must be generated and data must be \\nacquired, prepared, analyzed, and acted upon. Multiple techniques \\nare often applied before one yields interesting results. If that seems \\ndaunting, it is because it is. Data Science is diﬃcult, intellectually \\ntaxing work, which requires lots of talent: both tangible technical \\nskills as well as the intangible ‘x-factors.’\\n/T_he most important qualities of Data Scientists tend to be the', 'of the types of personalities that make Data Science possible, as well \\nas a willingness to establish a culture of innovation and curiosity in \\nyour organization. You must also consider how to deploy the team and \\ngain widespread buy-in from across your organization. The Data Science Venn Diagram (inspired by [12])\\nTHE FIELD  GUIDE to  DATA  SCIENCE\\n35 Start Here for the Basics 35 Start Here for the BasicsUnder standing What Makes  \\na Data Scientist \\nData Science often requires a signi/f_icant investment of time across \\na variety of tasks. Hypotheses must be generated and data must be \\nacquired, prepared, analyzed, and acted upon. Multiple techniques \\nare often applied before one yields interesting results. If that seems \\ndaunting, it is because it is. Data Science is diﬃcult, intellectually \\ntaxing work, which requires lots of talent: both tangible technical \\nskills as well as the intangible ‘x-factors.’\\n/T_he most important qualities of Data Scientists tend to be the', 'Science. Companies with strong Data Science teams often focus \\non a single class of problems – graph algorithms for social \\nnetwork analysis and recommender models for online shopping \\nare two notable examples. Booz Allen is diﬀerent. In our role as \\nconsultants, we support a diverse set of clients across a variety of \\ndomains. /T_his allows us to uniquely understand the DNA of  \\nData Science. Our goal in creating /T_he Field Guide to Data Science  \\nis to capture what we have learned and to share it broadly.  \\nWe want this eﬀort to help drive forward the science and art  \\nof Data Science. \\n/T_his /f_ield guide came from the passion our team feels for  \\nits work. It is not a textbook nor is it a super/f_icial treatment. \\nSenior leaders will walk away with a deeper understanding  \\nof the concepts at the heart of Data Science. Practitioners  \\nwill add to their toolbox. We hope everyone will enjoy  \\nthe journey. »Why Data Science DNA? \\nWe view Data Science as having \\nDNA-like characteristics. Much like', 'Science. Companies with strong Data Science teams often focus \\non a single class of problems – graph algorithms for social \\nnetwork analysis and recommender models for online shopping \\nare two notable examples. Booz Allen is diﬀerent. In our role as \\nconsultants, we support a diverse set of clients across a variety of \\ndomains. /T_his allows us to uniquely understand the DNA of  \\nData Science. Our goal in creating /T_he Field Guide to Data Science  \\nis to capture what we have learned and to share it broadly.  \\nWe want this eﬀort to help drive forward the science and art  \\nof Data Science. \\n/T_his /f_ield guide came from the passion our team feels for  \\nits work. It is not a textbook nor is it a super/f_icial treatment. \\nSenior leaders will walk away with a deeper understanding  \\nof the concepts at the heart of Data Science. Practitioners  \\nwill add to their toolbox. We hope everyone will enjoy  \\nthe journey. »Why Data Science DNA? \\nWe view Data Science as having \\nDNA-like characteristics. Much like']</td>\n",
       "      <td>The Data Science Venn Diagram illustrates the interdisciplinary nature of Data Science by showing the overlap between computer science, mathematics, and domain expertise. These areas are critical because they provide the foundation for creating data products, understanding the problem space, and examining data science problems theoretically. Building a successful Data Science capability requires a diverse set of skills, including computer science, mathematics, and domain expertise, to create a winning team that can achieve improved insights.</td>\n",
       "      <td>The 'Data Science Venn Diagram' showcases Data Science as an intersection of domain expertise, computer science, and mathematics. Domain expertise ensures relevance, computer science handles data manipulation, and mathematics provides the basis for analysis and prediction. This integration is crucial for deriving meaningful insights and solutions from data, highlighting Data Science's interdisciplinary nature and its reliance on these core areas for effective decision-making.</td>\n",
       "    </tr>\n",
       "  </tbody>\n",
       "</table>\n",
       "</div>"
      ],
      "text/plain": [
       "             llm-model  \\\n",
       "0  Llama-2-13b-chat-hf   \n",
       "1  Llama-2-13b-chat-hf   \n",
       "2  Llama-2-13b-chat-hf   \n",
       "3  Llama-2-13b-chat-hf   \n",
       "4  Llama-2-13b-chat-hf   \n",
       "\n",
       "                                                                                                                                                                                                                               question  \\\n",
       "0                                                                                              What are the fundamental differences between deductive and inductive reasoning in the context of Data Science, as outlined in the guide?   \n",
       "1                                                                                                                How does the guide describe the transformation of data into actionable insights through the creation of data products?   \n",
       "2                                                                                                         According to the guide, what role does the Data Lake play in the preparation and analysis of data for Data Science endeavors?   \n",
       "3                                                           Can you explain the concept of 'Data Science Maturity' within an organization as presented in the guide, and how does it impact the organization's analytical capabilities?   \n",
       "4  The guide mentions a 'Data Science Venn Diagram' that includes domain expertise, computer science, and mathematics. How does this diagram illustrate the interdisciplinary nature of Data Science, and why are these areas critical?   \n",
       "\n",
       "                                                                                                                                                                                                                                                                                                                                                                                                                                                                                                                                                                                                                                                                                                                                                                                                                                                                                                                                                                                                                                                                                                                                                                                                                                                                                                                                                                                                                                                                                                                                                                                                                                                                                                                                                                                                                                                                                                                                                                                                                                                                                                                                                                                                                                                                                                                                                                                                                                                                                                                                                                                                                                                                                                                                                                                                                                                                                                                                                                                                                                                                                                                                                                                                                                                                                                                                                                                                                                                                                                                                                                                                                                                                                                                                                                                                                                                                                                                                                                                                                                                                                                                                                                                                                                                                                                                                                                                                                                                                                                                                                                                                                                                                                                                                                                                                                                                                                                                                                                                                                                                                                                                                                                                                                                                                                                                                                                           contexts  \\\n",
       "0                                                                                             ['(hypothesis-based) and inductive (pattern-based) reasoning.  /T_his is \\na fundamental change from traditional analytic approaches. Inductive \\nreasoning and exploratory data analysis provide a means to form or \\nre/f_ine hypotheses and discover new analytic paths. In fact, to do the \\ndiscovery of signi/f_icant insights that are the hallmark of Data Science, \\nyou must have the tradecraft and the interplay between inductive \\nand deductive reasoning. By actively combining the ability to reason \\ndeductively and inductively, Data Science creates an environment \\nwhere models of reality no longer need to be static and empirically \\nbased. Instead, they are constantly tested, updated and improved until \\nbetter models are found. /T_hese concepts are summarized in the /f_igure, \\n/T_he Types of Reason and /T_heir Role in Data Science Tradecraft .\\nTHE TYPES OF REASON…\\nDEDUCTIVE REASONING:\\n › Commonly associated \\nwith “formal logic.”\\n › Involves reasoning from known \\npremises, or premises presumed', '(hypothesis-based) and inductive (pattern-based) reasoning.  /T_his is \\na fundamental change from traditional analytic approaches. Inductive \\nreasoning and exploratory data analysis provide a means to form or \\nre/f_ine hypotheses and discover new analytic paths. In fact, to do the \\ndiscovery of signi/f_icant insights that are the hallmark of Data Science, \\nyou must have the tradecraft and the interplay between inductive \\nand deductive reasoning. By actively combining the ability to reason \\ndeductively and inductively, Data Science creates an environment \\nwhere models of reality no longer need to be static and empirically \\nbased. Instead, they are constantly tested, updated and improved until \\nbetter models are found. /T_hese concepts are summarized in the /f_igure, \\n/T_he Types of Reason and /T_heir Role in Data Science Tradecraft .\\nTHE TYPES OF REASON…\\nDEDUCTIVE REASONING:\\n › Commonly associated \\nwith “formal logic.”\\n › Involves reasoning from known \\npremises, or premises presumed', '(hypothesis-based) and inductive (pattern-based) reasoning.  /T_his is \\na fundamental change from traditional analytic approaches. Inductive \\nreasoning and exploratory data analysis provide a means to form or \\nre/f_ine hypotheses and discover new analytic paths. In fact, to do the \\ndiscovery of signi/f_icant insights that are the hallmark of Data Science, \\nyou must have the tradecraft and the interplay between inductive \\nand deductive reasoning. By actively combining the ability to reason \\ndeductively and inductively, Data Science creates an environment \\nwhere models of reality no longer need to be static and empirically \\nbased. Instead, they are constantly tested, updated and improved until \\nbetter models are found. /T_hese concepts are summarized in the /f_igure, \\n/T_he Types of Reason and /T_heir Role in Data Science Tradecraft .\\nTHE TYPES OF REASON…\\nDEDUCTIVE REASONING:\\n › Commonly associated \\nwith “formal logic.”\\n › Involves reasoning from known \\npremises, or premises presumed', 'premises, or premises presumed \\nto be true, to a certain conclusion.\\n › The conclusions reached are \\ncertain, inevitable, inescapable.INDUCTIVE REASONING\\n › Commonly known as “informal \\nlogic,”  or “everyday argument.”\\n › Involves drawing uncertain \\ninferences, based on \\nprobabilistic reasoning.\\n › The conclusions reached \\nare probable, reasonable, \\nplausible, believable.\\n…AND THEIR ROLE IN DATA SCIENCE TRADECRAFT.\\nDEDUCTIVE REASONING:\\n › Formulate hypotheses about \\nrelationships and underlying models.\\n › Carry out experiments with the data \\nto test hypotheses and models.INDUCTIVE REASONING\\n › Exploratory data analysis to \\ndiscover or reﬁne hypotheses.\\n › Discover new relationships, insights \\nand analytic paths from the data.\\nThe Types of Reason and Their Role in Data Science Tradecraft\\nTHE FIELD  GUIDE to  DATA  SCIENCE\\n Source: Booz Allen Hamilton \\n19 Start Here for the Basics 19 Start Here for the Basics\\n/T_he diﬀerences between Data Science and traditional analytic', 'premises, or premises presumed \\nto be true, to a certain conclusion.\\n › The conclusions reached are \\ncertain, inevitable, inescapable.INDUCTIVE REASONING\\n › Commonly known as “informal \\nlogic,”  or “everyday argument.”\\n › Involves drawing uncertain \\ninferences, based on \\nprobabilistic reasoning.\\n › The conclusions reached \\nare probable, reasonable, \\nplausible, believable.\\n…AND THEIR ROLE IN DATA SCIENCE TRADECRAFT.\\nDEDUCTIVE REASONING:\\n › Formulate hypotheses about \\nrelationships and underlying models.\\n › Carry out experiments with the data \\nto test hypotheses and models.INDUCTIVE REASONING\\n › Exploratory data analysis to \\ndiscover or reﬁne hypotheses.\\n › Discover new relationships, insights \\nand analytic paths from the data.\\nThe Types of Reason and Their Role in Data Science Tradecraft\\nTHE FIELD  GUIDE to  DATA  SCIENCE\\n Source: Booz Allen Hamilton \\n19 Start Here for the Basics 19 Start Here for the Basics\\n/T_he diﬀerences between Data Science and traditional analytic']   \n",
       "1                                                                                                                                                                             ['TheSHORT                  \\n  VERSION\\n\\x03›Data Science is the art of turning data into actions.  \\nIt’s all about the tradecraft. Tradecraft is the process, tools and \\ntechnologies for humans and computers to work together to \\ntransform data into insights.\\n\\x03›Data Science tradecraft creates data products .  \\nData products provide actionable information without exposing \\ndecision makers to the underlying data or analytics (e.g., buy/sell \\nstrategies for /f_inancial instruments, a set of actions to improve \\nproduct yield, or steps to improve product marketing).\\n\\x03›Data Science supports and encourages shifting between \\ndeductive (hypothesis-based) and inductive (pattern-\\nbased) reasoning.  \\n/T_his is a fundamental change from traditional analysis approaches. \\nInductive reasoning and exploratory data analysis provide a means \\nto form or re/f_ine hypotheses and discover new analytic paths. \\nModels of reality no longer need to be static. /T_hey are constantly', 'TheSHORT                  \\n  VERSION\\n\\x03›Data Science is the art of turning data into actions.  \\nIt’s all about the tradecraft. Tradecraft is the process, tools and \\ntechnologies for humans and computers to work together to \\ntransform data into insights.\\n\\x03›Data Science tradecraft creates data products .  \\nData products provide actionable information without exposing \\ndecision makers to the underlying data or analytics (e.g., buy/sell \\nstrategies for /f_inancial instruments, a set of actions to improve \\nproduct yield, or steps to improve product marketing).\\n\\x03›Data Science supports and encourages shifting between \\ndeductive (hypothesis-based) and inductive (pattern-\\nbased) reasoning.  \\n/T_his is a fundamental change from traditional analysis approaches. \\nInductive reasoning and exploratory data analysis provide a means \\nto form or re/f_ine hypotheses and discover new analytic paths. \\nModels of reality no longer need to be static. /T_hey are constantly', 'TheSHORT                  \\n  VERSION\\n\\x03›Data Science is the art of turning data into actions.  \\nIt’s all about the tradecraft. Tradecraft is the process, tools and \\ntechnologies for humans and computers to work together to \\ntransform data into insights.\\n\\x03›Data Science tradecraft creates data products .  \\nData products provide actionable information without exposing \\ndecision makers to the underlying data or analytics (e.g., buy/sell \\nstrategies for /f_inancial instruments, a set of actions to improve \\nproduct yield, or steps to improve product marketing).\\n\\x03›Data Science supports and encourages shifting between \\ndeductive (hypothesis-based) and inductive (pattern-\\nbased) reasoning.  \\n/T_his is a fundamental change from traditional analysis approaches. \\nInductive reasoning and exploratory data analysis provide a means \\nto form or re/f_ine hypotheses and discover new analytic paths. \\nModels of reality no longer need to be static. /T_hey are constantly', 'Organizations often make decisions based on inexact data. Data \\nstovepipes mean that organizations may have blind spots. /T_hey are \\nnot able to see the whole picture and fail to look at their data and \\nchallenges holistically. /T_he end result is that valuable information is \\nwithheld from decision makers. Research has shown almost 33% of \\ndecisions are made without good data or information. [10] \\nWhen Data Scientists are able to explore and analyze all the data, new \\nopportunities arise for analysis and data-driven decision making. /T_he \\ninsights gained from these new opportunities will signi/f_icantly change \\nthe course of action and decisions within an organization. Gaining \\naccess to an organization’s complete repository of data, however, \\nrequires preparation.\\nOur experience shows time and time again that the best tool for \\nData Scientists to prepare for analysis is a lake – speci/f_ically, the Data \\nLake.[11] /T_his is a new approach to collecting, storing and integrating', 'Organizations often make decisions based on inexact data. Data \\nstovepipes mean that organizations may have blind spots. /T_hey are \\nnot able to see the whole picture and fail to look at their data and \\nchallenges holistically. /T_he end result is that valuable information is \\nwithheld from decision makers. Research has shown almost 33% of \\ndecisions are made without good data or information. [10] \\nWhen Data Scientists are able to explore and analyze all the data, new \\nopportunities arise for analysis and data-driven decision making. /T_he \\ninsights gained from these new opportunities will signi/f_icantly change \\nthe course of action and decisions within an organization. Gaining \\naccess to an organization’s complete repository of data, however, \\nrequires preparation.\\nOur experience shows time and time again that the best tool for \\nData Scientists to prepare for analysis is a lake – speci/f_ically, the Data \\nLake.[11] /T_his is a new approach to collecting, storing and integrating']   \n",
       "2                                                                                                                                                                                                  ['Organizations often make decisions based on inexact data. Data \\nstovepipes mean that organizations may have blind spots. /T_hey are \\nnot able to see the whole picture and fail to look at their data and \\nchallenges holistically. /T_he end result is that valuable information is \\nwithheld from decision makers. Research has shown almost 33% of \\ndecisions are made without good data or information. [10] \\nWhen Data Scientists are able to explore and analyze all the data, new \\nopportunities arise for analysis and data-driven decision making. /T_he \\ninsights gained from these new opportunities will signi/f_icantly change \\nthe course of action and decisions within an organization. Gaining \\naccess to an organization’s complete repository of data, however, \\nrequires preparation.\\nOur experience shows time and time again that the best tool for \\nData Scientists to prepare for analysis is a lake – speci/f_ically, the Data \\nLake.[11] /T_his is a new approach to collecting, storing and integrating', 'Organizations often make decisions based on inexact data. Data \\nstovepipes mean that organizations may have blind spots. /T_hey are \\nnot able to see the whole picture and fail to look at their data and \\nchallenges holistically. /T_he end result is that valuable information is \\nwithheld from decision makers. Research has shown almost 33% of \\ndecisions are made without good data or information. [10] \\nWhen Data Scientists are able to explore and analyze all the data, new \\nopportunities arise for analysis and data-driven decision making. /T_he \\ninsights gained from these new opportunities will signi/f_icantly change \\nthe course of action and decisions within an organization. Gaining \\naccess to an organization’s complete repository of data, however, \\nrequires preparation.\\nOur experience shows time and time again that the best tool for \\nData Scientists to prepare for analysis is a lake – speci/f_ically, the Data \\nLake.[11] /T_his is a new approach to collecting, storing and integrating', 'Organizations often make decisions based on inexact data. Data \\nstovepipes mean that organizations may have blind spots. /T_hey are \\nnot able to see the whole picture and fail to look at their data and \\nchallenges holistically. /T_he end result is that valuable information is \\nwithheld from decision makers. Research has shown almost 33% of \\ndecisions are made without good data or information. [10] \\nWhen Data Scientists are able to explore and analyze all the data, new \\nopportunities arise for analysis and data-driven decision making. /T_he \\ninsights gained from these new opportunities will signi/f_icantly change \\nthe course of action and decisions within an organization. Gaining \\naccess to an organization’s complete repository of data, however, \\nrequires preparation.\\nOur experience shows time and time again that the best tool for \\nData Scientists to prepare for analysis is a lake – speci/f_ically, the Data \\nLake.[11] /T_his is a new approach to collecting, storing and integrating', 'of risks and opportunities by evaluating situational, operational and \\nbehavioral data.\\nWith the totality of data fully accessible in the Data Lake, \\norganizations can use analytics to /f_ind the kinds of connections and \\npatterns that point to promising opportunities. /T_his high-speed \\nanalytic connection is done within the Data Lake, as opposed to \\nolder style sampling methods that could only make use of a narrow \\nslice of the data. In order to understand what was in the lake, you had \\nto bring the data out and study it. Now you can dive into the lake, \\nbringing your analytics to the data. /T_he /f_igure, Analytic Connection in \\nthe Data Lake,  highlights the concept of diving into the Data Lake to \\ndiscover new connections and patterns . \\nAnalytic Connection in the Data Lake\\nTHE FIELD  GUIDE to  DATA  SCIENCE\\n29 Start Here for the Basics 29 Start Here for the BasicsData Scientists work across the spectrum of analytic goals – Describe,', 'of risks and opportunities by evaluating situational, operational and \\nbehavioral data.\\nWith the totality of data fully accessible in the Data Lake, \\norganizations can use analytics to /f_ind the kinds of connections and \\npatterns that point to promising opportunities. /T_his high-speed \\nanalytic connection is done within the Data Lake, as opposed to \\nolder style sampling methods that could only make use of a narrow \\nslice of the data. In order to understand what was in the lake, you had \\nto bring the data out and study it. Now you can dive into the lake, \\nbringing your analytics to the data. /T_he /f_igure, Analytic Connection in \\nthe Data Lake,  highlights the concept of diving into the Data Lake to \\ndiscover new connections and patterns . \\nAnalytic Connection in the Data Lake\\nTHE FIELD  GUIDE to  DATA  SCIENCE\\n29 Start Here for the Basics 29 Start Here for the BasicsData Scientists work across the spectrum of analytic goals – Describe,']   \n",
       "3  ['unless it is intended to produce an output – that is, you have the \\nintent to Advise . /T_his means simply that each step forward in  \\nmaturity drives you to the right in the model diagram. Moving  \\nto the right requires the correct processes, people, culture and \\noperating model – a robust Data Science capability. What Does it  \\nTake to Create a Data Science Capability?  addresses this topic. \\nWe have observed very few organizations actually operating at  \\nthe highest levels of maturity, the Predict  and Advise  stages. /T_he \\ntradecraft of Discover  is only now maturing to the point that \\norganizations can focus on advanced Predict and Advise activities.  \\n/T_his is the new frontier of Data Science. /T_his is the space in which \\nwe will begin to understand how to close the cognitive gap between \\nhumans and computers. Organizations that reach Advise  will be  \\nmet with true insights and real competitive advantage. »  Where does your organization \\nfall in analytic maturity? \\n Take the quiz!', 'unless it is intended to produce an output – that is, you have the \\nintent to Advise . /T_his means simply that each step forward in  \\nmaturity drives you to the right in the model diagram. Moving  \\nto the right requires the correct processes, people, culture and \\noperating model – a robust Data Science capability. What Does it  \\nTake to Create a Data Science Capability?  addresses this topic. \\nWe have observed very few organizations actually operating at  \\nthe highest levels of maturity, the Predict  and Advise  stages. /T_he \\ntradecraft of Discover  is only now maturing to the point that \\norganizations can focus on advanced Predict and Advise activities.  \\n/T_his is the new frontier of Data Science. /T_his is the space in which \\nwe will begin to understand how to close the cognitive gap between \\nhumans and computers. Organizations that reach Advise  will be  \\nmet with true insights and real competitive advantage. »  Where does your organization \\nfall in analytic maturity? \\n Take the quiz!', 'unless it is intended to produce an output – that is, you have the \\nintent to Advise . /T_his means simply that each step forward in  \\nmaturity drives you to the right in the model diagram. Moving  \\nto the right requires the correct processes, people, culture and \\noperating model – a robust Data Science capability. What Does it  \\nTake to Create a Data Science Capability?  addresses this topic. \\nWe have observed very few organizations actually operating at  \\nthe highest levels of maturity, the Predict  and Advise  stages. /T_he \\ntradecraft of Discover  is only now maturing to the point that \\norganizations can focus on advanced Predict and Advise activities.  \\n/T_his is the new frontier of Data Science. /T_his is the space in which \\nwe will begin to understand how to close the cognitive gap between \\nhumans and computers. Organizations that reach Advise  will be  \\nmet with true insights and real competitive advantage. »  Where does your organization \\nfall in analytic maturity? \\n Take the quiz!', 'tested, updated and improved until better models are found. \\n\\x03›Data Science is necessary for companies to stay with the \\npack and compete in the future.   \\nOrganizations are constantly making decisions based on gut \\ninstinct, loudest voice and best argument – sometimes they are \\neven informed by real information. /T_he winners and the losers in \\nthe emerging data economy are going to be determined by their \\nData Science teams. \\n\\x03›Data Science capabilities can be built over time.  \\nOrganizations mature through a series of stages – Collect, \\nDescribe, Discover, Predict, Advise – as they move from data \\ndeluge to full Data Science maturity. At each stage, they can \\ntackle increasingly complex analytic goals with a wider breadth \\nof analytic capabilities. However, organizations need not reach \\nmaximum Data Science maturity to achieve success. Signi/f_icant \\ngains can be found in every stage.\\n\\x03›Data Science is a diﬀerent kind of team sport.   \\nData Science teams need a broad view of the organization. Leaders', 'tested, updated and improved until better models are found. \\n\\x03›Data Science is necessary for companies to stay with the \\npack and compete in the future.   \\nOrganizations are constantly making decisions based on gut \\ninstinct, loudest voice and best argument – sometimes they are \\neven informed by real information. /T_he winners and the losers in \\nthe emerging data economy are going to be determined by their \\nData Science teams. \\n\\x03›Data Science capabilities can be built over time.  \\nOrganizations mature through a series of stages – Collect, \\nDescribe, Discover, Predict, Advise – as they move from data \\ndeluge to full Data Science maturity. At each stage, they can \\ntackle increasingly complex analytic goals with a wider breadth \\nof analytic capabilities. However, organizations need not reach \\nmaximum Data Science maturity to achieve success. Signi/f_icant \\ngains can be found in every stage.\\n\\x03›Data Science is a diﬀerent kind of team sport.   \\nData Science teams need a broad view of the organization. Leaders']   \n",
       "4                                                                                                   ['of the types of personalities that make Data Science possible, as well \\nas a willingness to establish a culture of innovation and curiosity in \\nyour organization. You must also consider how to deploy the team and \\ngain widespread buy-in from across your organization. The Data Science Venn Diagram (inspired by [12])\\nTHE FIELD  GUIDE to  DATA  SCIENCE\\n35 Start Here for the Basics 35 Start Here for the BasicsUnder standing What Makes  \\na Data Scientist \\nData Science often requires a signi/f_icant investment of time across \\na variety of tasks. Hypotheses must be generated and data must be \\nacquired, prepared, analyzed, and acted upon. Multiple techniques \\nare often applied before one yields interesting results. If that seems \\ndaunting, it is because it is. Data Science is diﬃcult, intellectually \\ntaxing work, which requires lots of talent: both tangible technical \\nskills as well as the intangible ‘x-factors.’\\n/T_he most important qualities of Data Scientists tend to be the', 'of the types of personalities that make Data Science possible, as well \\nas a willingness to establish a culture of innovation and curiosity in \\nyour organization. You must also consider how to deploy the team and \\ngain widespread buy-in from across your organization. The Data Science Venn Diagram (inspired by [12])\\nTHE FIELD  GUIDE to  DATA  SCIENCE\\n35 Start Here for the Basics 35 Start Here for the BasicsUnder standing What Makes  \\na Data Scientist \\nData Science often requires a signi/f_icant investment of time across \\na variety of tasks. Hypotheses must be generated and data must be \\nacquired, prepared, analyzed, and acted upon. Multiple techniques \\nare often applied before one yields interesting results. If that seems \\ndaunting, it is because it is. Data Science is diﬃcult, intellectually \\ntaxing work, which requires lots of talent: both tangible technical \\nskills as well as the intangible ‘x-factors.’\\n/T_he most important qualities of Data Scientists tend to be the', 'of the types of personalities that make Data Science possible, as well \\nas a willingness to establish a culture of innovation and curiosity in \\nyour organization. You must also consider how to deploy the team and \\ngain widespread buy-in from across your organization. The Data Science Venn Diagram (inspired by [12])\\nTHE FIELD  GUIDE to  DATA  SCIENCE\\n35 Start Here for the Basics 35 Start Here for the BasicsUnder standing What Makes  \\na Data Scientist \\nData Science often requires a signi/f_icant investment of time across \\na variety of tasks. Hypotheses must be generated and data must be \\nacquired, prepared, analyzed, and acted upon. Multiple techniques \\nare often applied before one yields interesting results. If that seems \\ndaunting, it is because it is. Data Science is diﬃcult, intellectually \\ntaxing work, which requires lots of talent: both tangible technical \\nskills as well as the intangible ‘x-factors.’\\n/T_he most important qualities of Data Scientists tend to be the', 'Science. Companies with strong Data Science teams often focus \\non a single class of problems – graph algorithms for social \\nnetwork analysis and recommender models for online shopping \\nare two notable examples. Booz Allen is diﬀerent. In our role as \\nconsultants, we support a diverse set of clients across a variety of \\ndomains. /T_his allows us to uniquely understand the DNA of  \\nData Science. Our goal in creating /T_he Field Guide to Data Science  \\nis to capture what we have learned and to share it broadly.  \\nWe want this eﬀort to help drive forward the science and art  \\nof Data Science. \\n/T_his /f_ield guide came from the passion our team feels for  \\nits work. It is not a textbook nor is it a super/f_icial treatment. \\nSenior leaders will walk away with a deeper understanding  \\nof the concepts at the heart of Data Science. Practitioners  \\nwill add to their toolbox. We hope everyone will enjoy  \\nthe journey. »Why Data Science DNA? \\nWe view Data Science as having \\nDNA-like characteristics. Much like', 'Science. Companies with strong Data Science teams often focus \\non a single class of problems – graph algorithms for social \\nnetwork analysis and recommender models for online shopping \\nare two notable examples. Booz Allen is diﬀerent. In our role as \\nconsultants, we support a diverse set of clients across a variety of \\ndomains. /T_his allows us to uniquely understand the DNA of  \\nData Science. Our goal in creating /T_he Field Guide to Data Science  \\nis to capture what we have learned and to share it broadly.  \\nWe want this eﬀort to help drive forward the science and art  \\nof Data Science. \\n/T_his /f_ield guide came from the passion our team feels for  \\nits work. It is not a textbook nor is it a super/f_icial treatment. \\nSenior leaders will walk away with a deeper understanding  \\nof the concepts at the heart of Data Science. Practitioners  \\nwill add to their toolbox. We hope everyone will enjoy  \\nthe journey. »Why Data Science DNA? \\nWe view Data Science as having \\nDNA-like characteristics. Much like']   \n",
       "\n",
       "                                                                                                                                                                                                                                                                                                                                                                                                                                                                                                                                                                                                                                                                                                                                                                                                                                                        answer  \\\n",
       "0                                                                                                             The fundamental differences between deductive and inductive reasoning in the context of Data Science are:\\n     * Deductive reasoning involves reasoning from known premises to a certain conclusion, while inductive reasoning involves drawing uncertain inferences based on probabilistic reasoning.\\n     * Data Science combines both deductive and inductive reasoning to create an environment where models of reality are constantly tested, updated, and improved until better models are found.\\n     * Data Science emphasizes the use of inductive reasoning to discover new relationships and insights from the data, while deductive reasoning is used to formulate hypotheses and carry out experiments to test those hypotheses.   \n",
       "1                                                                                                                                                                Based on the provided context, the guide describes the transformation of data into actionable insights through the creation of data products, which provide actionable information without exposing decision makers to the underlying data or analytics. The guide highlights the importance of extracting timely and actionable information from diverse data sources to drive data products, and emphasizes the shift from traditional analysis approaches to inductive and deductive reasoning. Additionally, the guide notes that organizations can directly connect business decision makers to the data, allowing them to value the data rather than managing it as something separate.   \n",
       "2                                                                                                                                                                                                                                                                                                                                                                                                                                                                                                                                                                                                    The Data Lake plays a crucial role in the preparation and analysis of data for Data Science endeavors by providing a centralized repository of all the organization's data, eliminating the need for ETL and enabling real-time analysis of all the data.   \n",
       "3   The concept of \"Data Science Maturity\" refers to an organization's ability to utilize data to drive decision-making and improve its analytical capabilities. It is a model that assesses an organization's progress in developing its data science capabilities, from basic data collection and description to more advanced predictive and advisory activities. The model has five stages of maturity, ranging from collecting and describing data to predicting and advising. Organizations that reach the highest levels of maturity, known as the \"Advise\" stage, are able to use data to gain true insights and achieve real competitive advantage. To create a data science capability, organizations must build a robust team with a broad view of the organization, and leaders must foster trust and transparent communication across all levels.   \n",
       "4                                                                                                                                                                                                                                                                                          The Data Science Venn Diagram illustrates the interdisciplinary nature of Data Science by showing the overlap between computer science, mathematics, and domain expertise. These areas are critical because they provide the foundation for creating data products, understanding the problem space, and examining data science problems theoretically. Building a successful Data Science capability requires a diverse set of skills, including computer science, mathematics, and domain expertise, to create a winning team that can achieve improved insights.   \n",
       "\n",
       "                                                                                                                                                                                                                                                                                                                                                                                                                                                                                                                                                                                                                                                                                                                                                                            ground_truth  \n",
       "0                                                                                                                                                                                                                                                                                                                                                                                             deductive reasoning begins with hypotheses and tests them against data to reach a certain conclusion, reflecting a structured, logical process. Inductive reasoning, conversely, starts with observations and data to generate hypotheses, favoring discovery and insights. This interplay enhances model adaptability and reflects a significant shift from traditional analytic methods.  \n",
       "1                                         The guide outlines the transformation of data into actionable insights through the creation of data products as a process that turns data into actions. This is achieved by developing data products that provide actionable information to decision-makers without requiring them to interact with the underlying data or analytics. Examples of such data products include buy/sell strategies, actions to improve product yield, or steps to enhance product marketing. This transformation requires extracting timely actionable information from various data sources to drive the data products, thus enabling decisions based on insights like which products to advertise more or how to improve compliance programs cost-effectively.  \n",
       "2  The guide emphasizes the Data Lake's critical role in Data Science for both the preparation and analysis of data. It is highlighted as the optimal tool for Data Scientists to prepare data for analysis, acting as a centralized repository that consolidates an organization's entire data collection into a unified view. This consolidation eliminates the need for traditional, cumbersome data-preparation processes like Extract/Transform/Load (ETL), making all information readily available for every inquiry. The Data Lake enables direct analysis of the complete data set, facilitating the discovery of connections and patterns that drive actionable insights, thereby significantly enhancing decision-making and opportunity identification within organizations.  \n",
       "3                                                                                                                                                The concept of 'Data Science Maturity' in an organization is described as a progression through stages from data collection to advanced analytics and decision-making advice. It outlines a journey from handling simple data tasks to achieving deep insights that guide strategic actions. Each stage—Collect, Describe, Discover, Predict, and Advise—represents an increase in analytical capability, moving from basic data aggregation to providing sophisticated, actionable advice. Advancing through these stages enhances the organization's ability to make informed decisions, ultimately offering a competitive advantage.  \n",
       "4                                                                                                                                                                                                                                                                                       The 'Data Science Venn Diagram' showcases Data Science as an intersection of domain expertise, computer science, and mathematics. Domain expertise ensures relevance, computer science handles data manipulation, and mathematics provides the basis for analysis and prediction. This integration is crucial for deriving meaningful insights and solutions from data, highlighting Data Science's interdisciplinary nature and its reliance on these core areas for effective decision-making.  "
      ]
     },
     "execution_count": 52,
     "metadata": {},
     "output_type": "execute_result"
    }
   ],
   "source": [
    "results.head(5)"
   ]
  },
  {
   "cell_type": "code",
   "execution_count": 50,
   "id": "ee74adde-a283-4adc-8131-f94e90adaeae",
   "metadata": {
    "tags": []
   },
   "outputs": [
    {
     "data": {
      "text/plain": [
       "array(['Llama-2-13b-chat-hf', 'Mistral-7B-Instruct-v0.2',\n",
       "       'LargeWorldModel-LWM-Text-Chat-256K',\n",
       "       'AzureOpenai-GPT-35-turbo-16k'], dtype=object)"
      ]
     },
     "execution_count": 50,
     "metadata": {},
     "output_type": "execute_result"
    }
   ],
   "source": [
    "results[\"llm-model\"].unique()"
   ]
  },
  {
   "cell_type": "code",
   "execution_count": 39,
   "id": "83039b24-99bc-485e-af14-1a06fb425cbf",
   "metadata": {
    "tags": []
   },
   "outputs": [
    {
     "data": {
      "application/vnd.jupyter.widget-view+json": {
       "model_id": "3fcd5117026e463080b809b497609eab",
       "version_major": 2,
       "version_minor": 0
      },
      "text/plain": [
       "  0%|          | 0/5 [00:00<?, ?it/s]"
      ]
     },
     "metadata": {},
     "output_type": "display_data"
    },
    {
     "data": {
      "application/vnd.jupyter.widget-view+json": {
       "model_id": "bdd48d1045cc4668a4d4100bc3dd1e68",
       "version_major": 2,
       "version_minor": 0
      },
      "text/plain": [
       "  0%|          | 0/5 [00:00<?, ?it/s]"
      ]
     },
     "metadata": {},
     "output_type": "display_data"
    },
    {
     "data": {
      "application/vnd.jupyter.widget-view+json": {
       "model_id": "cf1664524df4441ab2b7b5ce971f3603",
       "version_major": 2,
       "version_minor": 0
      },
      "text/plain": [
       "  0%|          | 0/5 [00:00<?, ?it/s]"
      ]
     },
     "metadata": {},
     "output_type": "display_data"
    },
    {
     "data": {
      "application/vnd.jupyter.widget-view+json": {
       "model_id": "e879c9009f9e4eba9731aafac0d5c549",
       "version_major": 2,
       "version_minor": 0
      },
      "text/plain": [
       "  0%|          | 0/5 [00:00<?, ?it/s]"
      ]
     },
     "metadata": {},
     "output_type": "display_data"
    }
   ],
   "source": [
    "llm_model = []\n",
    "eval_feedback = []\n",
    "eval_score = []\n",
    "\n",
    "for i in results[\"llm-model\"].unique():\n",
    "    data = results[results[\"llm-model\"] ==i][['question', 'answer', 'ground_truth','contexts']].to_dict(orient='records')\n",
    "    llm_model.append(i)\n",
    "    for experiment in tqdm(data):\n",
    "        eval_prompt = evaluation_prompt_template.format_messages(\n",
    "            instruction=experiment[\"question\"],\n",
    "            response=experiment[\"answer\"],\n",
    "            retrieved_information=experiment[\"contexts\"],\n",
    "            reference_answer=experiment[\"ground_truth\"])\n",
    "\n",
    "        eval_result = eval_chat_model.invoke(eval_prompt)\n",
    "        \n",
    "        feedback, score = [\n",
    "        item.strip() for item in eval_result.content.split(\"[RESULT]\")]\n",
    "        eval_feedback.append(feedback)\n",
    "        eval_score.append(score)\n",
    "    "
   ]
  },
  {
   "cell_type": "code",
   "execution_count": 47,
   "id": "ed6c8fe3-e806-4cdb-b857-5a6486d846cc",
   "metadata": {
    "tags": []
   },
   "outputs": [
    {
     "data": {
      "text/html": [
       "<div>\n",
       "<style scoped>\n",
       "    .dataframe tbody tr th:only-of-type {\n",
       "        vertical-align: middle;\n",
       "    }\n",
       "\n",
       "    .dataframe tbody tr th {\n",
       "        vertical-align: top;\n",
       "    }\n",
       "\n",
       "    .dataframe thead th {\n",
       "        text-align: right;\n",
       "    }\n",
       "</style>\n",
       "<table border=\"1\" class=\"dataframe\">\n",
       "  <thead>\n",
       "    <tr style=\"text-align: right;\">\n",
       "      <th></th>\n",
       "      <th>llm_model</th>\n",
       "      <th>evaluation_feedback</th>\n",
       "      <th>evaluation_score</th>\n",
       "    </tr>\n",
       "  </thead>\n",
       "  <tbody>\n",
       "    <tr>\n",
       "      <th>0</th>\n",
       "      <td>Llama-2-13b-chat-hf</td>\n",
       "      <td>The response accurately describes the fundamental differences between deductive and inductive reasoning in the context of Data Science. It correctly defines deductive reasoning as beginning with known premises to reach a certain conclusion, and inductive reasoning as drawing uncertain inferences based on probabilistic reasoning. The response also accurately describes how Data Science combines both reasoning types to constantly test, update, and improve models of reality. The response is slightly detailed than the reference answer but it maintains the factual correctness.</td>\n",
       "      <td>9</td>\n",
       "    </tr>\n",
       "    <tr>\n",
       "      <th>1</th>\n",
       "      <td>Llama-2-13b-chat-hf</td>\n",
       "      <td>The response is mostly correct, accurate, and factual. It successfully outlines the guide's description of the transformation of data into actionable insights through the creation of data products. The response correctly mentions that data products provide actionable information without exposing decision makers to the underlying data or analytics. It also accurately highlights the shift from traditional analysis approaches to inductive and deductive reasoning. However, the response lacks the specific examples of data products mentioned in the reference answer, such as buy/sell strategies, actions to improve product yield, or steps to enhance product marketing. It also does not mention the potential decisions that can be made based on these insights, such as advertising products more or improving compliance programs cost-effectively. Nevertheless, the response is largely accurate and factual.</td>\n",
       "      <td>7</td>\n",
       "    </tr>\n",
       "    <tr>\n",
       "      <th>2</th>\n",
       "      <td>Llama-2-13b-chat-hf</td>\n",
       "      <td>The response correctly identifies the Data Lake as a crucial tool in the preparation and analysis of data for Data Science endeavors. It correctly states that the Data Lake provides a centralized repository for all of an organization's data, which is aligned with the information in the guide. The response also correctly highlights the elimination of the need for ETL processes and the enablement of real-time data analysis, which is supported by the reference answer. However, the response could have mentioned the discovery of connections and patterns that drive actionable insights, which is an important point in the guide.</td>\n",
       "      <td>9</td>\n",
       "    </tr>\n",
       "    <tr>\n",
       "      <th>3</th>\n",
       "      <td>Llama-2-13b-chat-hf</td>\n",
       "      <td>The response accurately describes the concept of 'Data Science Maturity' within an organization as the progression of an organization's ability to use data to drive decision-making and improve analytical capabilities. It correctly outlines the five stages of maturity from data collection to advising, and highlights the significance of reaching the highest levels of maturity. The response also accurately mentions the importance of a robust team and transparent communication. However, it could be improved by mentioning that organizations do not need to reach maximum Data Science maturity to achieve success, as indicated in the retrieved information.</td>\n",
       "      <td>9</td>\n",
       "    </tr>\n",
       "    <tr>\n",
       "      <th>4</th>\n",
       "      <td>Llama-2-13b-chat-hf</td>\n",
       "      <td>The response correctly illustrates the interdisciplinary nature of Data Science using the Data Science Venn Diagram, highlighting the overlap between computer science, mathematics, and domain expertise. Moreover, it accurately explains why these areas are critical in the field of Data Science. It presents the information in a clear and factual manner, aligning with the details provided in the reference answer. The response could have further emphasized on how each of these areas contributes to Data Science: domain expertise ensures relevance, computer science handles data manipulation, and mathematics provides the basis for analysis and prediction.</td>\n",
       "      <td>9</td>\n",
       "    </tr>\n",
       "    <tr>\n",
       "      <th>5</th>\n",
       "      <td>Mistral-7B-Instruct-v0.2</td>\n",
       "      <td>The response correctly identifies the fundamental differences between deductive and inductive reasoning in the context of Data Science as outlined in the guide. It accurately describes deductive reasoning as proceeding from known premises to a certain conclusion and inductive reasoning as drawing uncertain inferences based on probabilistic reasoning. It also correctly highlights their roles in Data Science, with deductive reasoning used for hypothesis formulation and inductive reasoning used for exploratory data analysis. The response, however, includes additional information that is not in the retrieved information or the reference answer, such as the comparison between Data Science and Business Intelligence. This additional information, while relevant to the broader context of Data Science, does not directly address the specific question about the differences between deductive and inductive reasoning.</td>\n",
       "      <td>9</td>\n",
       "    </tr>\n",
       "    <tr>\n",
       "      <th>6</th>\n",
       "      <td>Mistral-7B-Instruct-v0.2</td>\n",
       "      <td>The response is mostly correct, accurate, and factual. The responder correctly mentions how data science is the art of turning data into actions, and this transformation occurs through the creation of data products. They also accurately state that these data products provide actionable information without exposing decision-makers to the underlying data or analytics. The responder also correctly states that these data products allow organizations to make informed decisions. However, the response lacks specific examples of data products and how they enable decisions based on insights, as mentioned in the reference answer. Also, the term 'consolidation of data' is confusing and not explicitly mentioned in the retrieved information.</td>\n",
       "      <td>7</td>\n",
       "    </tr>\n",
       "    <tr>\n",
       "      <th>7</th>\n",
       "      <td>Mistral-7B-Instruct-v0.2</td>\n",
       "      <td>The response provided a good explanation of the role of the Data Lake in data science as per the guide. It accurately identified the Data Lake as a tool used for data preparation and analysis, and correctly explained that it consolidates an organization's data into a single view, thereby eliminating the need for ETL processes. It also correctly pointed out that the Data Lake makes all data available for inquiries and helps in discovering new connections and patterns. However, the response failed to mention the significant enhancement of decision-making and opportunity identification within organizations, which is a key point in the reference answer.</td>\n",
       "      <td>9</td>\n",
       "    </tr>\n",
       "    <tr>\n",
       "      <th>8</th>\n",
       "      <td>Mistral-7B-Instruct-v0.2</td>\n",
       "      <td>The response accurately explains the concept of 'Data Science Maturity' within an organization. It correctly outlines the stages of maturity, from data collection to advanced analytics, which matches the reference answer. The response also accurately states that organizations don't need to reach the maximum maturity to make significant gains, which is also implied in the guide. The response includes the importance of the culture that fosters curiosity, transparency, and trust that was not explicitly mentioned in the reference but is a part of the retrieved information. Overall, the response is factual and correct, and it covers all the necessary aspects of the topic.</td>\n",
       "      <td>10</td>\n",
       "    </tr>\n",
       "    <tr>\n",
       "      <th>9</th>\n",
       "      <td>Mistral-7B-Instruct-v0.2</td>\n",
       "      <td>The response accurately describes the interdisciplinary nature of Data Science as illustrated by the Venn Diagram, highlighting the importance of computer science, mathematics, and domain expertise. It correctly identifies the roles of these areas in Data Science - computer science for testing data-driven hypotheses, mathematics for identifying patterns in data, and domain expertise for applying Data Science to real-world problems. The response also emphasizes the collaborative nature of Data Science and its forward-thinking approach, which are also critical aspects. However, it could have been more precise in explaining why these areas are crucial for effective decision-making, as mentioned in the reference answer.</td>\n",
       "      <td>9</td>\n",
       "    </tr>\n",
       "    <tr>\n",
       "      <th>10</th>\n",
       "      <td>LargeWorldModel-LWM-Text-Chat-256K</td>\n",
       "      <td>The response is correct, accurate, and factual. It effectively captures the fundamental differences between deductive and inductive reasoning in the context of Data Science. The response is in line with the reference answer and the retrieved information, detailing how deductive reasoning starts with hypotheses and tests them against data, while inductive reasoning starts with data to generate hypotheses. Moreover, the response goes above and beyond the reference answer by adding valuable insights about how these reasoning methods are applied in Data Science, their roles, and their significance in the field.</td>\n",
       "      <td>10</td>\n",
       "    </tr>\n",
       "    <tr>\n",
       "      <th>11</th>\n",
       "      <td>LargeWorldModel-LWM-Text-Chat-256K</td>\n",
       "      <td>The response correctly explains how the guide describes the transformation of data into actionable insights through data products. It accurately states that data products provide actionable information without exposing decision makers to the underlying data or analytics. However, the response lacks the mention of specific examples of data products such as buy/sell strategies, actions to improve product yield, or steps to enhance product marketing which are present in the reference answer. This is a minor omission but it slightly affects the completeness of the response.</td>\n",
       "      <td>8</td>\n",
       "    </tr>\n",
       "    <tr>\n",
       "      <th>12</th>\n",
       "      <td>LargeWorldModel-LWM-Text-Chat-256K</td>\n",
       "      <td>The response given is largely accurate, correct, and factual. It correctly emphasizes the role of the Data Lake as a central repository for an organization's complete data, which aligns with the information given in the guide. The response also accurately points out that the Data Lake eliminates the need for costly ETL processes and provides a single view of all data for analysis, which is a key point in the guide. Moreover, it mentions that Data Scientists use analytics to gain insights from the data, which enables real-time understanding and decision-making, which is also in line with the guide. However, the response could be improved by mentioning that the Data Lake allows for the discovery of connections and patterns that can drive actionable insights, which is an important point made in the guide.</td>\n",
       "      <td>8</td>\n",
       "    </tr>\n",
       "    <tr>\n",
       "      <th>13</th>\n",
       "      <td>LargeWorldModel-LWM-Text-Chat-256K</td>\n",
       "      <td>The response accurately explains the concept of 'Data Science Maturity' within an organization. It correctly mentions the organization's progress in developing a robust Data Science capability and how this impacts the organization's analytical capabilities. The response also properly refers to the Data Science Maturity Model and its use in determining an organization's analytic goals. However, the response could have explicitly mentioned the stages of the maturity model (Collect, Describe, Discover, Predict, and Advise) as mentioned in the reference answer. These stages are important to fully understand the concept of Data Science Maturity. Additionally, the response could also have included the point that advancing through these stages enhances the organization's ability to make informed decisions and provides a competitive advantage.</td>\n",
       "      <td>8</td>\n",
       "    </tr>\n",
       "    <tr>\n",
       "      <th>14</th>\n",
       "      <td>LargeWorldModel-LWM-Text-Chat-256K</td>\n",
       "      <td>The response accurately explains how the Data Science Venn Diagram illustrates the interdisciplinary nature of Data Science. It correctly identifies the three key areas: computer science, mathematics, and domain expertise, and explains their importance in creating effective data products that can improve business outcomes. However, it misses the specifics of how each domain contributes to the data science process, such as the role of domain expertise in ensuring relevance, computer science in data manipulation, and mathematics in analysis and prediction. These specifics were included in the reference answer, but omitted in the response.</td>\n",
       "      <td>8</td>\n",
       "    </tr>\n",
       "    <tr>\n",
       "      <th>15</th>\n",
       "      <td>AzureOpenai-GPT-35-turbo-16k</td>\n",
       "      <td>The response accurately provides the differences between deductive and inductive reasoning in the context of Data Science. It correctly mentions that deductive reasoning involves reasoning from known premises to a certain conclusion and is associated with \"formal logic\". Similarly, it correctly states that inductive reasoning involves drawing uncertain inferences based on probabilistic reasoning and is known as \"informal logic\". The response also correctly outlines that Data Science encourages shifting between both types of reasoning and supports the creation of constantly tested, updated, and improved models. The response is in line with the reference answer and the retrieved information, indicating a high level of factual correctness.</td>\n",
       "      <td>10</td>\n",
       "    </tr>\n",
       "    <tr>\n",
       "      <th>16</th>\n",
       "      <td>AzureOpenai-GPT-35-turbo-16k</td>\n",
       "      <td>The response accurately describes the transformation of data into actionable insights through the creation of data products as outlined in the guide. The respondent correctly identifies that data products are used to provide actionable information without exposing decision makers to the underlying data. They also accurately mention the role of data science tradecraft in this transformation process and the shift between deductive and inductive reasoning. However, the response lacks specific examples of data products, such as buy/sell strategies, actions to improve product yield, or steps to enhance product marketing, which were included in the reference answer. This minor omission is the only difference between the response and the reference.</td>\n",
       "      <td>9</td>\n",
       "    </tr>\n",
       "    <tr>\n",
       "      <th>17</th>\n",
       "      <td>AzureOpenai-GPT-35-turbo-16k</td>\n",
       "      <td>The response correctly identifies the role of the Data Lake in data preparation and analysis for Data Science endeavors. It accurately portrays the Data Lake as a complete repository of an organization's data, facilitating exploration and analysis by Data Scientists. The response also correctly identifies the Data Lake's role in eliminating the need for ETL processes and enabling the discovery of connections and patterns in the data. However, the response could provide a clearer explanation of the Data Lake's role in consolidating an organization's entire data collection into a unified view and its impact on enhancing decision-making and opportunity identification.</td>\n",
       "      <td>9</td>\n",
       "    </tr>\n",
       "    <tr>\n",
       "      <th>18</th>\n",
       "      <td>AzureOpenai-GPT-35-turbo-16k</td>\n",
       "      <td>The response accurately explains the concept of 'Data Science Maturity' within an organization, matching closely with the reference answer. The details of progression from basic data collection to advanced stages such as discovery, prediction, and advising are correctly described. The impact of data science maturity on an organization's analytical capabilities is also correctly outlined. The response is factual, comprehensive, and correctly captures all key points in the reference answer.</td>\n",
       "      <td>10</td>\n",
       "    </tr>\n",
       "    <tr>\n",
       "      <th>19</th>\n",
       "      <td>AzureOpenai-GPT-35-turbo-16k</td>\n",
       "      <td>The response accurately and correctly explains the 'Data Science Venn Diagram' as an intersection of domain expertise, computer science, and mathematics, which matches very closely to the reference answer. The respondent also elaborates on why these areas are critical, linking each field to a specific aspect of Data Science, just like the reference answer. The explanation is factual and comprehensive, demonstrating a good understanding of the topic.</td>\n",
       "      <td>10</td>\n",
       "    </tr>\n",
       "  </tbody>\n",
       "</table>\n",
       "</div>"
      ],
      "text/plain": [
       "                             llm_model  \\\n",
       "0                  Llama-2-13b-chat-hf   \n",
       "1                  Llama-2-13b-chat-hf   \n",
       "2                  Llama-2-13b-chat-hf   \n",
       "3                  Llama-2-13b-chat-hf   \n",
       "4                  Llama-2-13b-chat-hf   \n",
       "5             Mistral-7B-Instruct-v0.2   \n",
       "6             Mistral-7B-Instruct-v0.2   \n",
       "7             Mistral-7B-Instruct-v0.2   \n",
       "8             Mistral-7B-Instruct-v0.2   \n",
       "9             Mistral-7B-Instruct-v0.2   \n",
       "10  LargeWorldModel-LWM-Text-Chat-256K   \n",
       "11  LargeWorldModel-LWM-Text-Chat-256K   \n",
       "12  LargeWorldModel-LWM-Text-Chat-256K   \n",
       "13  LargeWorldModel-LWM-Text-Chat-256K   \n",
       "14  LargeWorldModel-LWM-Text-Chat-256K   \n",
       "15        AzureOpenai-GPT-35-turbo-16k   \n",
       "16        AzureOpenai-GPT-35-turbo-16k   \n",
       "17        AzureOpenai-GPT-35-turbo-16k   \n",
       "18        AzureOpenai-GPT-35-turbo-16k   \n",
       "19        AzureOpenai-GPT-35-turbo-16k   \n",
       "\n",
       "                                                                                                                                                                                                                                                                                                                                                                                                                                                                                                                                                                                                                                                                                                                                                                                                                                                                                                                                     evaluation_feedback  \\\n",
       "0                                                                                                                                                                                                                                                                                                                                                      The response accurately describes the fundamental differences between deductive and inductive reasoning in the context of Data Science. It correctly defines deductive reasoning as beginning with known premises to reach a certain conclusion, and inductive reasoning as drawing uncertain inferences based on probabilistic reasoning. The response also accurately describes how Data Science combines both reasoning types to constantly test, update, and improve models of reality. The response is slightly detailed than the reference answer but it maintains the factual correctness.   \n",
       "1               The response is mostly correct, accurate, and factual. It successfully outlines the guide's description of the transformation of data into actionable insights through the creation of data products. The response correctly mentions that data products provide actionable information without exposing decision makers to the underlying data or analytics. It also accurately highlights the shift from traditional analysis approaches to inductive and deductive reasoning. However, the response lacks the specific examples of data products mentioned in the reference answer, such as buy/sell strategies, actions to improve product yield, or steps to enhance product marketing. It also does not mention the potential decisions that can be made based on these insights, such as advertising products more or improving compliance programs cost-effectively. Nevertheless, the response is largely accurate and factual.   \n",
       "2                                                                                                                                                                                                                                                                                                   The response correctly identifies the Data Lake as a crucial tool in the preparation and analysis of data for Data Science endeavors. It correctly states that the Data Lake provides a centralized repository for all of an organization's data, which is aligned with the information in the guide. The response also correctly highlights the elimination of the need for ETL processes and the enablement of real-time data analysis, which is supported by the reference answer. However, the response could have mentioned the discovery of connections and patterns that drive actionable insights, which is an important point in the guide.   \n",
       "3                                                                                                                                                                                                                                                                        The response accurately describes the concept of 'Data Science Maturity' within an organization as the progression of an organization's ability to use data to drive decision-making and improve analytical capabilities. It correctly outlines the five stages of maturity from data collection to advising, and highlights the significance of reaching the highest levels of maturity. The response also accurately mentions the importance of a robust team and transparent communication. However, it could be improved by mentioning that organizations do not need to reach maximum Data Science maturity to achieve success, as indicated in the retrieved information.   \n",
       "4                                                                                                                                                                                                                                                                       The response correctly illustrates the interdisciplinary nature of Data Science using the Data Science Venn Diagram, highlighting the overlap between computer science, mathematics, and domain expertise. Moreover, it accurately explains why these areas are critical in the field of Data Science. It presents the information in a clear and factual manner, aligning with the details provided in the reference answer. The response could have further emphasized on how each of these areas contributes to Data Science: domain expertise ensures relevance, computer science handles data manipulation, and mathematics provides the basis for analysis and prediction.   \n",
       "5   The response correctly identifies the fundamental differences between deductive and inductive reasoning in the context of Data Science as outlined in the guide. It accurately describes deductive reasoning as proceeding from known premises to a certain conclusion and inductive reasoning as drawing uncertain inferences based on probabilistic reasoning. It also correctly highlights their roles in Data Science, with deductive reasoning used for hypothesis formulation and inductive reasoning used for exploratory data analysis. The response, however, includes additional information that is not in the retrieved information or the reference answer, such as the comparison between Data Science and Business Intelligence. This additional information, while relevant to the broader context of Data Science, does not directly address the specific question about the differences between deductive and inductive reasoning.   \n",
       "6                                                                                                                                                                                     The response is mostly correct, accurate, and factual. The responder correctly mentions how data science is the art of turning data into actions, and this transformation occurs through the creation of data products. They also accurately state that these data products provide actionable information without exposing decision-makers to the underlying data or analytics. The responder also correctly states that these data products allow organizations to make informed decisions. However, the response lacks specific examples of data products and how they enable decisions based on insights, as mentioned in the reference answer. Also, the term 'consolidation of data' is confusing and not explicitly mentioned in the retrieved information.   \n",
       "7                                                                                                                                                                                                                                                                      The response provided a good explanation of the role of the Data Lake in data science as per the guide. It accurately identified the Data Lake as a tool used for data preparation and analysis, and correctly explained that it consolidates an organization's data into a single view, thereby eliminating the need for ETL processes. It also correctly pointed out that the Data Lake makes all data available for inquiries and helps in discovering new connections and patterns. However, the response failed to mention the significant enhancement of decision-making and opportunity identification within organizations, which is a key point in the reference answer.   \n",
       "8                                                                                                                                                                                                                                                    The response accurately explains the concept of 'Data Science Maturity' within an organization. It correctly outlines the stages of maturity, from data collection to advanced analytics, which matches the reference answer. The response also accurately states that organizations don't need to reach the maximum maturity to make significant gains, which is also implied in the guide. The response includes the importance of the culture that fosters curiosity, transparency, and trust that was not explicitly mentioned in the reference but is a part of the retrieved information. Overall, the response is factual and correct, and it covers all the necessary aspects of the topic.   \n",
       "9                                                                                                                                                                                                  The response accurately describes the interdisciplinary nature of Data Science as illustrated by the Venn Diagram, highlighting the importance of computer science, mathematics, and domain expertise. It correctly identifies the roles of these areas in Data Science - computer science for testing data-driven hypotheses, mathematics for identifying patterns in data, and domain expertise for applying Data Science to real-world problems. The response also emphasizes the collaborative nature of Data Science and its forward-thinking approach, which are also critical aspects. However, it could have been more precise in explaining why these areas are crucial for effective decision-making, as mentioned in the reference answer.   \n",
       "10                                                                                                                                                                                                                                                                                                                The response is correct, accurate, and factual. It effectively captures the fundamental differences between deductive and inductive reasoning in the context of Data Science. The response is in line with the reference answer and the retrieved information, detailing how deductive reasoning starts with hypotheses and tests them against data, while inductive reasoning starts with data to generate hypotheses. Moreover, the response goes above and beyond the reference answer by adding valuable insights about how these reasoning methods are applied in Data Science, their roles, and their significance in the field.   \n",
       "11                                                                                                                                                                                                                                                                                                                                                      The response correctly explains how the guide describes the transformation of data into actionable insights through data products. It accurately states that data products provide actionable information without exposing decision makers to the underlying data or analytics. However, the response lacks the mention of specific examples of data products such as buy/sell strategies, actions to improve product yield, or steps to enhance product marketing which are present in the reference answer. This is a minor omission but it slightly affects the completeness of the response.   \n",
       "12                                                                                                         The response given is largely accurate, correct, and factual. It correctly emphasizes the role of the Data Lake as a central repository for an organization's complete data, which aligns with the information given in the guide. The response also accurately points out that the Data Lake eliminates the need for costly ETL processes and provides a single view of all data for analysis, which is a key point in the guide. Moreover, it mentions that Data Scientists use analytics to gain insights from the data, which enables real-time understanding and decision-making, which is also in line with the guide. However, the response could be improved by mentioning that the Data Lake allows for the discovery of connections and patterns that can drive actionable insights, which is an important point made in the guide.   \n",
       "13                                                                       The response accurately explains the concept of 'Data Science Maturity' within an organization. It correctly mentions the organization's progress in developing a robust Data Science capability and how this impacts the organization's analytical capabilities. The response also properly refers to the Data Science Maturity Model and its use in determining an organization's analytic goals. However, the response could have explicitly mentioned the stages of the maturity model (Collect, Describe, Discover, Predict, and Advise) as mentioned in the reference answer. These stages are important to fully understand the concept of Data Science Maturity. Additionally, the response could also have included the point that advancing through these stages enhances the organization's ability to make informed decisions and provides a competitive advantage.   \n",
       "14                                                                                                                                                                                                                                                                                  The response accurately explains how the Data Science Venn Diagram illustrates the interdisciplinary nature of Data Science. It correctly identifies the three key areas: computer science, mathematics, and domain expertise, and explains their importance in creating effective data products that can improve business outcomes. However, it misses the specifics of how each domain contributes to the data science process, such as the role of domain expertise in ensuring relevance, computer science in data manipulation, and mathematics in analysis and prediction. These specifics were included in the reference answer, but omitted in the response.   \n",
       "15                                                                                                                                                                            The response accurately provides the differences between deductive and inductive reasoning in the context of Data Science. It correctly mentions that deductive reasoning involves reasoning from known premises to a certain conclusion and is associated with \"formal logic\". Similarly, it correctly states that inductive reasoning involves drawing uncertain inferences based on probabilistic reasoning and is known as \"informal logic\". The response also correctly outlines that Data Science encourages shifting between both types of reasoning and supports the creation of constantly tested, updated, and improved models. The response is in line with the reference answer and the retrieved information, indicating a high level of factual correctness.   \n",
       "16                                                                                                                                                                       The response accurately describes the transformation of data into actionable insights through the creation of data products as outlined in the guide. The respondent correctly identifies that data products are used to provide actionable information without exposing decision makers to the underlying data. They also accurately mention the role of data science tradecraft in this transformation process and the shift between deductive and inductive reasoning. However, the response lacks specific examples of data products, such as buy/sell strategies, actions to improve product yield, or steps to enhance product marketing, which were included in the reference answer. This minor omission is the only difference between the response and the reference.   \n",
       "17                                                                                                                                                                                                                                                     The response correctly identifies the role of the Data Lake in data preparation and analysis for Data Science endeavors. It accurately portrays the Data Lake as a complete repository of an organization's data, facilitating exploration and analysis by Data Scientists. The response also correctly identifies the Data Lake's role in eliminating the need for ETL processes and enabling the discovery of connections and patterns in the data. However, the response could provide a clearer explanation of the Data Lake's role in consolidating an organization's entire data collection into a unified view and its impact on enhancing decision-making and opportunity identification.   \n",
       "18                                                                                                                                                                                                                                                                                                                                                                                                                                         The response accurately explains the concept of 'Data Science Maturity' within an organization, matching closely with the reference answer. The details of progression from basic data collection to advanced stages such as discovery, prediction, and advising are correctly described. The impact of data science maturity on an organization's analytical capabilities is also correctly outlined. The response is factual, comprehensive, and correctly captures all key points in the reference answer.   \n",
       "19                                                                                                                                                                                                                                                                                                                                                                                                                                                                                 The response accurately and correctly explains the 'Data Science Venn Diagram' as an intersection of domain expertise, computer science, and mathematics, which matches very closely to the reference answer. The respondent also elaborates on why these areas are critical, linking each field to a specific aspect of Data Science, just like the reference answer. The explanation is factual and comprehensive, demonstrating a good understanding of the topic.   \n",
       "\n",
       "    evaluation_score  \n",
       "0                  9  \n",
       "1                  7  \n",
       "2                  9  \n",
       "3                  9  \n",
       "4                  9  \n",
       "5                  9  \n",
       "6                  7  \n",
       "7                  9  \n",
       "8                 10  \n",
       "9                  9  \n",
       "10                10  \n",
       "11                 8  \n",
       "12                 8  \n",
       "13                 8  \n",
       "14                 8  \n",
       "15                10  \n",
       "16                 9  \n",
       "17                 9  \n",
       "18                10  \n",
       "19                10  "
      ]
     },
     "execution_count": 47,
     "metadata": {},
     "output_type": "execute_result"
    }
   ],
   "source": [
    "# llm_model listesini genişletmek\n",
    "expanded_llm_model = [model for model in llm_model for _ in range(5)]\n",
    "\n",
    "# DataFrame oluşturma\n",
    "data = {\n",
    "    'llm_model': expanded_llm_model,\n",
    "    'evaluation_feedback': eval_feedback,\n",
    "    'evaluation_score': eval_score\n",
    "}\n",
    "\n",
    "# DataFrame'i oluşturma\n",
    "llm_results = pd.DataFrame(data)\n",
    "llm_results[\"evaluation_score\"] = llm_results[\"evaluation_score\"].astype(\"int\")\n",
    "llm_results\n"
   ]
  },
  {
   "cell_type": "code",
   "execution_count": 45,
   "id": "ba10831d-177a-4e92-a21b-6d78085439fc",
   "metadata": {
    "tags": []
   },
   "outputs": [
    {
     "data": {
      "text/html": [
       "<div>\n",
       "<style scoped>\n",
       "    .dataframe tbody tr th:only-of-type {\n",
       "        vertical-align: middle;\n",
       "    }\n",
       "\n",
       "    .dataframe tbody tr th {\n",
       "        vertical-align: top;\n",
       "    }\n",
       "\n",
       "    .dataframe thead th {\n",
       "        text-align: right;\n",
       "    }\n",
       "</style>\n",
       "<table border=\"1\" class=\"dataframe\">\n",
       "  <thead>\n",
       "    <tr style=\"text-align: right;\">\n",
       "      <th></th>\n",
       "      <th>evaluation_score</th>\n",
       "    </tr>\n",
       "    <tr>\n",
       "      <th>llm_model</th>\n",
       "      <th></th>\n",
       "    </tr>\n",
       "  </thead>\n",
       "  <tbody>\n",
       "    <tr>\n",
       "      <th>AzureOpenai-GPT-35-turbo-16k</th>\n",
       "      <td>9.6</td>\n",
       "    </tr>\n",
       "    <tr>\n",
       "      <th>LargeWorldModel-LWM-Text-Chat-256K</th>\n",
       "      <td>8.4</td>\n",
       "    </tr>\n",
       "    <tr>\n",
       "      <th>Llama-2-13b-chat-hf</th>\n",
       "      <td>8.6</td>\n",
       "    </tr>\n",
       "    <tr>\n",
       "      <th>Mistral-7B-Instruct-v0.2</th>\n",
       "      <td>8.8</td>\n",
       "    </tr>\n",
       "  </tbody>\n",
       "</table>\n",
       "</div>"
      ],
      "text/plain": [
       "                                    evaluation_score\n",
       "llm_model                                           \n",
       "AzureOpenai-GPT-35-turbo-16k                     9.6\n",
       "LargeWorldModel-LWM-Text-Chat-256K               8.4\n",
       "Llama-2-13b-chat-hf                              8.6\n",
       "Mistral-7B-Instruct-v0.2                         8.8"
      ]
     },
     "execution_count": 45,
     "metadata": {},
     "output_type": "execute_result"
    }
   ],
   "source": [
    "llm_results.groupby(\"llm_model\")[[\"evaluation_score\"]].mean()"
   ]
  },
  {
   "cell_type": "code",
   "execution_count": null,
   "id": "8e1a6ba3-b435-4581-8d02-76b181ef092c",
   "metadata": {},
   "outputs": [],
   "source": []
  },
  {
   "cell_type": "code",
   "execution_count": null,
   "id": "2f92cfeb-71bd-4260-a8a2-a83a83af92e4",
   "metadata": {},
   "outputs": [],
   "source": []
  }
 ],
 "metadata": {
  "kernelspec": {
   "display_name": "llm-work-space",
   "language": "python",
   "name": "llm-work-space"
  },
  "language_info": {
   "codemirror_mode": {
    "name": "ipython",
    "version": 3
   },
   "file_extension": ".py",
   "mimetype": "text/x-python",
   "name": "python",
   "nbconvert_exporter": "python",
   "pygments_lexer": "ipython3",
   "version": "3.11.8"
  }
 },
 "nbformat": 4,
 "nbformat_minor": 5
}
