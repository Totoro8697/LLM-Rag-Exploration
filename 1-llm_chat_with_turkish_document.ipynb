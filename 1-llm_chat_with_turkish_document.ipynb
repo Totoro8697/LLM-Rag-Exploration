{
 "cells": [
  {
   "cell_type": "code",
   "execution_count": 1,
   "id": "7e455707-8f9d-45dc-8e48-622899b7dcce",
   "metadata": {},
   "outputs": [],
   "source": [
    "from argostranslate import package, translate\n",
    "from deep_translator import GoogleTranslator\n",
    "import fitz \n",
    "from langdetect import detect\n",
    "from translate import Translator\n",
    "import nltk\n",
    "import re\n",
    "from sentence_transformers import SentenceTransformer\n",
    "from langchain.prompts import PromptTemplate\n",
    "\n",
    "from PyPDF2 import PdfReader\n",
    "import os\n",
    "from langchain.text_splitter import RecursiveCharacterTextSplitter\n",
    "from langchain.vectorstores import Chroma\n",
    "from langchain.chains import ConversationalRetrievalChain\n",
    "from openai import AzureOpenAI\n",
    "\n",
    "import chromadb\n",
    "from chromadb.utils import embedding_functions"
   ]
  },
  {
   "cell_type": "code",
   "execution_count": null,
   "id": "1d1fb760-a9b5-414a-8715-db0062a3dd75",
   "metadata": {},
   "outputs": [],
   "source": [
    "os.environ['OPENAI_API_KEY'] = 'OPENAI_API_KEY'\n",
    "os.environ['OPENAI_API_TYPE'] = 'azure'\n",
    "os.environ['OPENAI_API_VERSION'] = '2023-03-15-preview'\n",
    "os.environ['OPENAI_API_BASE'] = 'OPENAI_API_BASE'"
   ]
  },
  {
   "cell_type": "code",
   "execution_count": 3,
   "id": "0bb7c6c9-132c-4e14-8b80-f4edf4c42a67",
   "metadata": {},
   "outputs": [],
   "source": [
    "# This Python code is setting up a text analysis process using the chromadb library. It imports embedding_functions to convert text into vector representations. \n",
    "## The path for the data, the model for embeddings, and the name of the document collection are defined as \"turkish_document_chroma/\", \"all-MiniLM-L6-v2\", and \"turkish_language_doc\", respectively. Lastly, an instance of chromadb.\n",
    "## PersistentClient is created to interact with the data stored at the specified path.\n",
    "\n",
    "CHROMA_DATA_PATH = \"turkish_document_chroma/\"\n",
    "EMBED_MODEL = \"all-MiniLM-L6-v2\"\n",
    "COLLECTION_NAME = \"turkish_language_doc\"\n",
    "\n",
    "client = chromadb.PersistentClient(path=CHROMA_DATA_PATH)"
   ]
  },
  {
   "cell_type": "raw",
   "id": "a55cfd83-3e79-4ef2-9a29-e928f933b80b",
   "metadata": {},
   "source": [
    "# You can use another model from HuggingFace like below.\n",
    "\n",
    "setting up an embedding function from Hugging Face and creating a new collection in the ChromaDB database.\n",
    "\n",
    "First, it imports the embedding_functions module from chromadb.utils and sets up a Hugging Face embedding function with a specified API key and model name.\n",
    "\n",
    "Then, it creates a new collection in the ChromaDB database using the previously created client. The collection is given a name, an embedding function, and metadata specifying the use of cosine space for HNSW (Hierarchical Navigable Small World) algorithm, which is likely used for similarity searches within the database.\n",
    "\n",
    "import chromadb.utils.embedding_functions as embedding_functions\n",
    "huggingface_ef = embedding_functions.HuggingFaceEmbeddingFunction(\n",
    "    api_key=\"your_api_key\",\n",
    "    model_name=\"maidalun1020/bce-embedding-base_v1\"\n",
    ")\n",
    "\n",
    "collection = client.create_collection(\n",
    "    name=COLLECTION_NAME,\n",
    "    embedding_function=huggingface_ef,\n",
    "    metadata={\"hnsw:space\": \"cosine\"},\n",
    ")"
   ]
  },
  {
   "cell_type": "code",
   "execution_count": 6,
   "id": "32560a27-6ac6-4e7d-a7ff-3bef634cc121",
   "metadata": {
    "tags": []
   },
   "outputs": [
    {
     "name": "stderr",
     "output_type": "stream",
     "text": [
      "2024-02-10 13:14:56.608 INFO    sentence_transformers.SentenceTransformer: Load pretrained SentenceTransformer: all-MiniLM-L6-v2\n"
     ]
    }
   ],
   "source": [
    "# performing two main tasks:\n",
    "## setting up an embedding function using the SentenceTransformerEmbeddingFunction from the embedding_functions module, using the model name defined earlier.\n",
    "## creating a new collection in the ChromaDB database using the client instance. The collection is named using the previously defined COLLECTION_NAME, the embedding function just created is assigned to it, and it's specified to use cosine space for HNSW algorithm.\n",
    "## Lastly, it retrieves the newly created collection from the ChromaDB database using the get_collection method.\n",
    "\n",
    "embedding_func = embedding_functions.SentenceTransformerEmbeddingFunction(\n",
    "    model_name=EMBED_MODEL\n",
    ")\n",
    "\n",
    "collection = client.create_collection(\n",
    "    name=COLLECTION_NAME,\n",
    "    embedding_function=embedding_func,\n",
    "    metadata={\"hnsw:space\": \"cosine\"},\n",
    ")\n",
    "\n"
   ]
  },
  {
   "cell_type": "code",
   "execution_count": 4,
   "id": "80605a56-ea02-4341-a5a3-c0df53b97133",
   "metadata": {},
   "outputs": [],
   "source": [
    "collection = client.get_collection(\"turkish_language_doc\")"
   ]
  },
  {
   "cell_type": "code",
   "execution_count": 7,
   "id": "60e30728-d17f-41b3-bf1d-417c1d4af22e",
   "metadata": {},
   "outputs": [],
   "source": [
    "def read_pdf(file_path):\n",
    "    text = ''\n",
    "    with fitz.open(file_path) as doc:\n",
    "        for page in doc:\n",
    "            text += page.get_text()\n",
    "    return text\n",
    "\n",
    "def detect_language(text):\n",
    "    return detect(text)\n",
    "\n",
    "def chunk_text_nltk(text, max_chunk_size=5000):\n",
    "    \"\"\"\n",
    "    This function uses NLTK's sent_tokenize to split the text into sentences and then\n",
    "    aggregates those sentences into chunks that are smaller than max_chunk_size.\n",
    "    \"\"\"\n",
    "    sentences = nltk.tokenize.sent_tokenize(text)\n",
    "    chunks = []\n",
    "    current_chunk = sentences[0]\n",
    "\n",
    "    for sentence in sentences[1:]:\n",
    "        \n",
    "        if len(current_chunk) + len(sentence) + 1 < max_chunk_size:\n",
    "            current_chunk += ' ' + sentence\n",
    "        else:\n",
    "            chunks.append(current_chunk)\n",
    "            current_chunk = sentence\n",
    "    chunks.append(current_chunk)  # Add the last chunk\n",
    "    return chunks\n",
    "\n",
    "def translate_text(text, dest_language='en'):\n",
    "    source_lang = detect(text)\n",
    "    translator = GoogleTranslator(source='auto', target=dest_language)\n",
    "    \n",
    "    chunks = chunk_text_nltk(text)\n",
    "    translated_text = ''\n",
    "    for chunk in chunks:\n",
    "        if len(chunk) <= 5000:\n",
    "            translated_text += translator.translate(chunk) + ' '\n",
    "        else:\n",
    "            print(\"Warning: A chunk exceeded the translation limit and was skipped.\")\n",
    "    \n",
    "    return translated_text\n"
   ]
  },
  {
   "cell_type": "code",
   "execution_count": 8,
   "id": "34adf9cf-1858-487e-b658-9e53d772727e",
   "metadata": {
    "tags": []
   },
   "outputs": [
    {
     "name": "stderr",
     "output_type": "stream",
     "text": [
      "2024-02-10 13:37:42.903 INFO    backoff: Backing off send_request(...) for 0.3s (requests.exceptions.ConnectionError: ('Connection aborted.', ConnectionResetError(10054, 'Varolan bir bağlantı uzaktaki bir ana bilgisayar tarafından zorla kapatıldı', None, 10054, None)))\n"
     ]
    }
   ],
   "source": [
    "# reads a PDF file.\n",
    "## checks the language of the text and if the language is not English, it translates the text into English.\n",
    "## splits the text into chunks of a certain size, with a certain amount of overlap between chunks.\n",
    "## adds each chunk of text to a collection with a specific ID. This could be for storage in a database or another storage system.\n",
    "\n",
    "\n",
    "pdf_path = \"Muhendislikte_yapay_zeka_ve_uygulamalari.pdf\"\n",
    "text = read_pdf(pdf_path)\n",
    "\n",
    "\n",
    "if detect_language(text) != 'en':\n",
    "    text = translate_text(text)\n",
    "\n",
    "\n",
    "text_splitter = RecursiveCharacterTextSplitter(\n",
    "    chunk_size=1000,\n",
    "    chunk_overlap=200,\n",
    "    length_function=len\n",
    ")\n",
    "chunks = text_splitter.split_text(text=text)\n",
    "\n",
    "\n",
    "for i, chunk in enumerate(chunks):\n",
    "    document_id = f\"id{i}\"\n",
    "    \n",
    "    collection.add(\n",
    "        documents=[chunk],  \n",
    "        ids=[document_id]\n",
    "    )"
   ]
  },
  {
   "cell_type": "code",
   "execution_count": 5,
   "id": "97008b83-4bfa-468e-bb04-6bb7f33d2a0b",
   "metadata": {},
   "outputs": [
    {
     "data": {
      "text/plain": [
       "{'ids': [['id27', 'id12', 'id11', 'id26', 'id13']],\n",
       " 'distances': [[0.3116670846939087,\n",
       "   0.3139141798019409,\n",
       "   0.35517728328704834,\n",
       "   0.387454628944397,\n",
       "   0.4085800051689148]],\n",
       " 'metadatas': [[None, None, None, None, None]],\n",
       " 'embeddings': None,\n",
       " 'documents': [['It is based on answering on a specific topic rather than answering all questions.\\n(Akpınar, 2015). 1.5\\nResearch Areas of Artificial Intelligence\\nArtificial intelligence studies are not only in computer science, but also in games, automatic application of mathematical theorems.\\nin proving, natural language understanding and translation processes, image processing, general\\nin information systems, machine learning, knowledge-based systems, data mining, robotics\\nIt is carried out in different areas such as (Kocaba¸s, 2013). Artificial use in different areas every day\\nWe see that intelligence is used. 1.5.1\\nGames\\nGames such as chess, checkers and backgammon have been preferred by researchers since the early days of artificial intelligence.\\nIt has become a popular area. In the beginning, we consider many solutions in a limited time.\\nSystems that were built on the ability to keep information are now based on information strategies that benefit from experience.',\n",
       "   \"ability (Akpınar, 2015). Generally, studies on this subject are based on humans and similar artificial structures.\\nIt aims to produce intelligence. 1.3\\nPurposes of Artificial Intelligence\\nThe aim of artificial intelligence studies is to take human intelligence as an example and perform tasks that require human intelligence.\\nTo make machines that can do it. That is, things that humans currently do better than computers.\\nIt is an effort to make computers do things better. In general, the purpose of artificial intelligence is three main\\nIt can be collected under the heading:\\n1. Making machines smarter:\\n• 'General information systems' that will play an important role in establishing the information society of the future\\nto develop,\\n• To formalize learning methods and form them into information systems on computers.\\nto apply,\\n• Collecting information within a certain field of expertise into an 'information system' or 'expert system'\\nis to collect. 2. Understanding what intelligence is:\",\n",
       "   '• Thinking like a human: With a cognitive modeling approach\\n• Thinking rationally: With the laws of thought laws\\n• Acting rationally: With the rational agent approach\\nis explained. Artificial intelligence is the study of mental functions related to intelligence in humans with the help of computer models.\\nA research that aims to examine and formalize them and then apply them to artificial systems.\\nis the area. “The term artificial intelligence first referred to LISP, one of the important artificial intelligence programming languages.\\nIt was developed in 1956 by John McCarthy, one of the pioneers in the field of artificial intelligence.\\nhas been put forward” (Quoted by: Russell & Norvig, 1995, p. 17-18). Artificial intelligence is the ability of a computer or a robot under control to act like a normal intelligent being.\\nability (Akpınar, 2015). Generally, studies on this subject are based on humans and similar artificial structures.\\nIt aims to produce intelligence. 1.3',\n",
       "   \"• In the movie “Her”, Joaquin Phoenix uses a computer operating system and Scarlett Johansson's\\nShe played a character who is in love with the artificial intelligence she voices. 2014\\n• In the movie “Transcendence”, Jonny Depp transferred his mind to the computer and became a super intelligence.\\nHe played an artificial intelligence researcher who develops artificial intelligence. • It was stated that chatbot Eugene Goostman passed the Turing test. 2015\\n• Natal Project (X-box)– Milo & Claire introduced. Artificial intelligence; After being divided into two as Cybernetic Artificial Intelligence and Symbolic Artificial Intelligence,\\nIt was observed that the study results were not very successful due to significant deficiencies. these two\\nThe collapse of this approach led to the formation of Expert Systems. Expert systems artificial intelligence\\nIt is based on answering on a specific topic rather than answering all questions.\\n(Akpınar, 2015). 1.5\\nResearch Areas of Artificial Intelligence\",\n",
       "   \"to apply,\\n• Collecting information within a certain field of expertise into an 'information system' or 'expert system'\\nis to collect. 2. Understanding what intelligence is:\\n• Trying to understand the functions of the human brain with the help of computer models,\\n• People's mental abilities are used in gaining knowledge, learning and making inventions.\\nis to research the strategies, methods and techniques they apply. 3. Making machines more useful:\\n• Developing artificial intelligence job assistants and 'intelligent robot teams',\\n• Developing human/computer interfaces that will make it easier for people to use computers,\\n• Developing 'research assistants' to be used in scientific research and inventions.\\ntruck. Many types of behavior can be considered signs of intelligence. Below are typical examples of this\\ncan be seen. • Learning from experiences,\\n1.4 History of Artificial Intelligence\\n15\\n• Making sense of mixed and contradictory messages,\"]],\n",
       " 'uris': None,\n",
       " 'data': None}"
      ]
     },
     "execution_count": 5,
     "metadata": {},
     "output_type": "execute_result"
    }
   ],
   "source": [
    "# queries a collection  for a specific text, in this case \"Find me Purposes of Artificial Intelligence in the relevant content.\"\n",
    "## specifies that it wants the top 5 results from this query.\n",
    "## stores the results of this query in the query_results variable.\n",
    "\n",
    "\n",
    "query_results = collection.query(\n",
    "    query_texts=[\"Find me Purposes of Artificial Intelligence in the relevant content.\"],\n",
    "    n_results=5,\n",
    ")\n",
    "\n",
    "query_results"
   ]
  },
  {
   "cell_type": "code",
   "execution_count": 21,
   "id": "eda2325e-e74a-416c-9cb7-eca83e858d76",
   "metadata": {},
   "outputs": [],
   "source": [
    "# sets a context string, which appears to be instructions for an AI assistant.\n",
    "## sets a question string, which asks for the purposes of artificial intelligence.\n",
    "## queries a collection for the question, requesting the top 5 results and including the documents in the results.\n",
    "## takes the documents from the query results and joins them into a single string, separated by commas, which it stores in the reviews_str variable.\n",
    "\n",
    "context = \"\"\"\n",
    "You are an artificial intelligence who loves helping people. Your goal is to provide accurate and consistent responses. When answering questions, use the following context: '{}'. Even if the content may not always be directly related to the question, \n",
    "strive to generate a meaningful response based on the provided context.  \n",
    "\n",
    "\"\"\" \n",
    "\n",
    "question = \"\"\"\n",
    "Find me research areas of artificial intelligence.\n",
    "\n",
    "\"\"\"\n",
    "\n",
    "good_reviews = collection.query(\n",
    "    query_texts=[question],\n",
    "    n_results=5,\n",
    "    include=[\"documents\"]\n",
    ")\n",
    "\n",
    "reviews_str = \",\".join(good_reviews[\"documents\"][0])\n",
    "\n"
   ]
  },
  {
   "cell_type": "code",
   "execution_count": 22,
   "id": "1642dcb0-9c35-4133-a505-414c8a059ffe",
   "metadata": {},
   "outputs": [
    {
     "data": {
      "text/plain": [
       "{'ids': [['id27', 'id42', 'id11', 'id26', 'id13']],\n",
       " 'distances': None,\n",
       " 'metadatas': None,\n",
       " 'embeddings': None,\n",
       " 'documents': [['It is based on answering on a specific topic rather than answering all questions.\\n(Akpınar, 2015). 1.5\\nResearch Areas of Artificial Intelligence\\nArtificial intelligence studies are not only in computer science, but also in games, automatic application of mathematical theorems.\\nin proving, natural language understanding and translation processes, image processing, general\\nin information systems, machine learning, knowledge-based systems, data mining, robotics\\nIt is carried out in different areas such as (Kocaba¸s, 2013). Artificial use in different areas every day\\nWe see that intelligence is used. 1.5.1\\nGames\\nGames such as chess, checkers and backgammon have been preferred by researchers since the early days of artificial intelligence.\\nIt has become a popular area. In the beginning, we consider many solutions in a limited time.\\nSystems that were built on the ability to keep information are now based on information strategies that benefit from experience.',\n",
       "   'provides services (Kara, 2014). According to experts, a PC bought for 1000 dollars in 2050 will consume more than the brain power of all people in the world.\\nIt will have more power (Akpınar, 2015). Speech, other sub-branches of artificial intelligence\\nSynthesis, Speech Understanding, Pattern Recognition, Genetic Algorithms, Genetic Programming, Fuzzy\\nLogic topics are also becoming a focus of interest as a research field. 1.7\\nSource\\nAkpınar, M.Y. (2015), Artificial Intelligence and Its History, Access: http://bit.ly/2gKUSzd, Access date:\\n18.08.2017\\nAnonymous-1, (n.d.), History and Development Process of Artificial Intelligence, Access: http://bit.ly/2x8nZm0,\\nAccess date: 18.08.2017\\nAnonim-2, (n.d.), Artificial Intelligence - Intelligent Systems, Access: http://bit.ly/2geHBxR,\\nAccess date: 18.08.2017\\nAnonymous, (2017), Modern History of Artificial Intelligence, SocialBusiness TR, Access: http://bit.ly/2xKVrn6,\\nAccess date: 18.08.2017',\n",
       "   '• Thinking like a human: With a cognitive modeling approach\\n• Thinking rationally: With the laws of thought laws\\n• Acting rationally: With the rational agent approach\\nis explained. Artificial intelligence is the study of mental functions related to intelligence in humans with the help of computer models.\\nA research that aims to examine and formalize them and then apply them to artificial systems.\\nis the area. “The term artificial intelligence first referred to LISP, one of the important artificial intelligence programming languages.\\nIt was developed in 1956 by John McCarthy, one of the pioneers in the field of artificial intelligence.\\nhas been put forward” (Quoted by: Russell & Norvig, 1995, p. 17-18). Artificial intelligence is the ability of a computer or a robot under control to act like a normal intelligent being.\\nability (Akpınar, 2015). Generally, studies on this subject are based on humans and similar artificial structures.\\nIt aims to produce intelligence. 1.3',\n",
       "   \"• In the movie “Her”, Joaquin Phoenix uses a computer operating system and Scarlett Johansson's\\nShe played a character who is in love with the artificial intelligence she voices. 2014\\n• In the movie “Transcendence”, Jonny Depp transferred his mind to the computer and became a super intelligence.\\nHe played an artificial intelligence researcher who develops artificial intelligence. • It was stated that chatbot Eugene Goostman passed the Turing test. 2015\\n• Natal Project (X-box)– Milo & Claire introduced. Artificial intelligence; After being divided into two as Cybernetic Artificial Intelligence and Symbolic Artificial Intelligence,\\nIt was observed that the study results were not very successful due to significant deficiencies. these two\\nThe collapse of this approach led to the formation of Expert Systems. Expert systems artificial intelligence\\nIt is based on answering on a specific topic rather than answering all questions.\\n(Akpınar, 2015). 1.5\\nResearch Areas of Artificial Intelligence\",\n",
       "   \"to apply,\\n• Collecting information within a certain field of expertise into an 'information system' or 'expert system'\\nis to collect. 2. Understanding what intelligence is:\\n• Trying to understand the functions of the human brain with the help of computer models,\\n• People's mental abilities are used in gaining knowledge, learning and making inventions.\\nis to research the strategies, methods and techniques they apply. 3. Making machines more useful:\\n• Developing artificial intelligence job assistants and 'intelligent robot teams',\\n• Developing human/computer interfaces that will make it easier for people to use computers,\\n• Developing 'research assistants' to be used in scientific research and inventions.\\ntruck. Many types of behavior can be considered signs of intelligence. Below are typical examples of this\\ncan be seen. • Learning from experiences,\\n1.4 History of Artificial Intelligence\\n15\\n• Making sense of mixed and contradictory messages,\"]],\n",
       " 'uris': None,\n",
       " 'data': None}"
      ]
     },
     "execution_count": 22,
     "metadata": {},
     "output_type": "execute_result"
    }
   ],
   "source": [
    "good_reviews"
   ]
  },
  {
   "cell_type": "code",
   "execution_count": 23,
   "id": "c3946933-8b54-4141-a686-4771dfd2cc57",
   "metadata": {},
   "outputs": [
    {
     "name": "stdout",
     "output_type": "stream",
     "text": [
      "Research areas of artificial intelligence include:\n",
      "\n",
      "1. Games: Artificial intelligence has been applied to games such as chess, checkers, and backgammon. Researchers have developed systems that use strategies based on experience and information to play these games.\n",
      "\n",
      "2. Natural Language Understanding and Translation: Artificial intelligence is used to understand and translate natural language. This includes speech synthesis, speech understanding, and pattern recognition.\n",
      "\n",
      "3. Image Processing: Artificial intelligence is used in image processing to analyze and interpret visual information. This includes tasks such as object recognition, image classification, and image generation.\n",
      "\n",
      "4. Information Systems: Artificial intelligence is used in information systems to collect and organize information within a specific field of expertise. This includes the development of expert systems that provide answers and solutions in a specific domain.\n",
      "\n",
      "5. Machine Learning: Machine learning is a subfield of artificial intelligence that focuses on developing algorithms and models that enable computers to learn from data and make predictions or decisions.\n",
      "\n",
      "6. Knowledge-based Systems: Knowledge-based systems use artificial intelligence techniques to represent and reason with knowledge in a specific domain. These systems are designed to provide expert-level advice and solutions.\n",
      "\n",
      "7. Data Mining: Data mining is the process of discovering patterns and relationships in large datasets. Artificial intelligence techniques, such as machine learning and pattern recognition, are used to extract valuable insights from data.\n",
      "\n",
      "8. Robotics: Artificial intelligence is used in robotics to enable robots to perceive and interact with their environment. This includes tasks such as object recognition, motion planning, and autonomous navigation.\n",
      "\n",
      "These are just a few examples of the research areas in artificial intelligence. The field is constantly evolving, and new areas of research are emerging as technology advances.\n"
     ]
    }
   ],
   "source": [
    "llm_model = AzureOpenAI(\n",
    "    azure_endpoint = os.environ['OPENAI_API_BASE'] ,\n",
    "    api_key = os.environ['OPENAI_API_KEY'],\n",
    "    api_version = os.environ['OPENAI_API_VERSION']\n",
    ")\n",
    "\n",
    "good_review_summaries = llm_model.chat.completions.create(\n",
    "        model=\"model_name\", # model = \"deployment_name\".\n",
    "        messages=[\n",
    "        {\"role\": \"system\", \"content\": context.format(reviews_str)},\n",
    "        {\"role\": \"user\", \"content\": question},\n",
    "        ],\n",
    "    temperature=0,\n",
    "    n=1\n",
    "    )\n",
    "\n",
    "\n",
    "\n",
    "\n",
    "print(good_review_summaries.choices[0].message.content)"
   ]
  },
  {
   "cell_type": "code",
   "execution_count": null,
   "id": "91d91730-1b9b-4c21-97c9-f4ea1b158881",
   "metadata": {},
   "outputs": [],
   "source": []
  },
  {
   "cell_type": "code",
   "execution_count": null,
   "id": "2ecb9f9e-e4e5-432c-9e35-2c8ab1b64a02",
   "metadata": {},
   "outputs": [],
   "source": []
  },
  {
   "cell_type": "code",
   "execution_count": null,
   "id": "8f782136-ef18-4ba4-a678-065076b51cc6",
   "metadata": {},
   "outputs": [],
   "source": []
  },
  {
   "cell_type": "code",
   "execution_count": null,
   "id": "7fc2bea6-b2ea-4312-b85f-eeeef6f1626e",
   "metadata": {},
   "outputs": [],
   "source": []
  }
 ],
 "metadata": {
  "kernelspec": {
   "display_name": "Python 3 (ipykernel)",
   "language": "python",
   "name": "python3"
  },
  "language_info": {
   "codemirror_mode": {
    "name": "ipython",
    "version": 3
   },
   "file_extension": ".py",
   "mimetype": "text/x-python",
   "name": "python",
   "nbconvert_exporter": "python",
   "pygments_lexer": "ipython3",
   "version": "3.11.5"
  }
 },
 "nbformat": 4,
 "nbformat_minor": 5
}
